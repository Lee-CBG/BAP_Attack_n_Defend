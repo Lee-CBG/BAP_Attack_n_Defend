{
 "cells": [
  {
   "cell_type": "code",
   "execution_count": 57,
   "metadata": {},
   "outputs": [],
   "source": [
    "import pandas as pd\n",
    "import numpy as np\n",
    "import re\n",
    "from dataclasses import dataclass\n",
    "import sys, os\n",
    "from tqdm.notebook import tqdm"
   ]
  },
  {
   "cell_type": "code",
   "execution_count": 58,
   "metadata": {},
   "outputs": [
    {
     "data": {
      "text/html": [
       "<div>\n",
       "<style scoped>\n",
       "    .dataframe tbody tr th:only-of-type {\n",
       "        vertical-align: middle;\n",
       "    }\n",
       "\n",
       "    .dataframe tbody tr th {\n",
       "        vertical-align: top;\n",
       "    }\n",
       "\n",
       "    .dataframe thead th {\n",
       "        text-align: right;\n",
       "    }\n",
       "</style>\n",
       "<table border=\"1\" class=\"dataframe\">\n",
       "  <thead>\n",
       "    <tr style=\"text-align: right;\">\n",
       "      <th></th>\n",
       "      <th>epi</th>\n",
       "      <th>tcr</th>\n",
       "      <th>binding</th>\n",
       "    </tr>\n",
       "  </thead>\n",
       "  <tbody>\n",
       "    <tr>\n",
       "      <th>0</th>\n",
       "      <td>WTYRPEVRGVW</td>\n",
       "      <td>CASSSGTGPSENEAYF</td>\n",
       "      <td>0</td>\n",
       "    </tr>\n",
       "    <tr>\n",
       "      <th>1</th>\n",
       "      <td>KFPRGQGVPI</td>\n",
       "      <td>CASSKRALGDTQYF</td>\n",
       "      <td>1</td>\n",
       "    </tr>\n",
       "    <tr>\n",
       "      <th>2</th>\n",
       "      <td>GPGHKARVL</td>\n",
       "      <td>CASSFGGATGPGELFF</td>\n",
       "      <td>1</td>\n",
       "    </tr>\n",
       "    <tr>\n",
       "      <th>3</th>\n",
       "      <td>TSTLAEQIAW</td>\n",
       "      <td>CASSPGVGNTEAFF</td>\n",
       "      <td>1</td>\n",
       "    </tr>\n",
       "    <tr>\n",
       "      <th>4</th>\n",
       "      <td>SWISDIRAGTAPLCRNHIKSSCSLI</td>\n",
       "      <td>CAVSAGSSGALRTQHF</td>\n",
       "      <td>0</td>\n",
       "    </tr>\n",
       "  </tbody>\n",
       "</table>\n",
       "</div>"
      ],
      "text/plain": [
       "                         epi               tcr  binding\n",
       "0                WTYRPEVRGVW  CASSSGTGPSENEAYF        0\n",
       "1                 KFPRGQGVPI    CASSKRALGDTQYF        1\n",
       "2                  GPGHKARVL  CASSFGGATGPGELFF        1\n",
       "3                 TSTLAEQIAW    CASSPGVGNTEAFF        1\n",
       "4  SWISDIRAGTAPLCRNHIKSSCSLI  CAVSAGSSGALRTQHF        0"
      ]
     },
     "execution_count": 58,
     "metadata": {},
     "output_type": "execute_result"
    }
   ],
   "source": [
    "contents = pd.read_csv('./data/dat_bencmarking_combined.csv')\n",
    "contents.head()"
   ]
  },
  {
   "cell_type": "code",
   "execution_count": 59,
   "metadata": {},
   "outputs": [],
   "source": [
    "# Process tcr and epitope sets\n",
    "tcr_set = contents['tcr'].unique()\n",
    "epi_set = contents['epi'].unique()\n",
    "tcr_rank = np.arange(2, len(tcr_set)+2)\n",
    "epi_rank = np.arange(3, len(epi_set)+3)\n",
    "tcr_pd = pd.DataFrame({\"tcr_set\": tcr_set, \"tcr_rank\": tcr_rank})\n",
    "epi_pd = pd.DataFrame({\"epi_set\": epi_set, \"epi_rank\": epi_rank})\n",
    "tcr_pd.to_csv('./data/tcr.csv', index=False, header=False, sep='\\t')\n",
    "epi_pd.to_csv('./data/epitopes.csv', index=False, header=False, sep='\\t')\n",
    "training_set = pd.read_csv('./data/dat_bencmarking_combined.csv')\n"
   ]
  },
  {
   "cell_type": "code",
   "execution_count": 60,
   "metadata": {},
   "outputs": [],
   "source": [
    "def load_data_split(x_pep, x_tcr, args):\n",
    "\n",
    "    split_type = args.split\n",
    "    idx_test_remove = None\n",
    "    idx_test = None\n",
    "    idx_train = None\n",
    "\n",
    "    if split_type == 'random':\n",
    "        n_total = len(x_pep)\n",
    "    elif split_type == 'epitope':\n",
    "        unique_peptides = np.unique(x_pep)\n",
    "        n_total = len(unique_peptides)\n",
    "    elif split_type == 'tcr':\n",
    "        unique_tcrs = np.unique(x_tcr)\n",
    "        n_total = len(unique_tcrs)\n",
    "\n",
    "    indexfile = re.sub('.csv', f'_{split_type}_data_shuffle.txt', args.infile)\n",
    "    idx_shuffled = np.loadtxt(indexfile, dtype=np.int32)\n",
    "\n",
    "    # Determine data split from folds\n",
    "    n_test = int(round(n_total / args.n_fold))\n",
    "    n_train = n_total - n_test\n",
    "\n",
    "    # Determine position of current test fold\n",
    "    test_fold_start_index = args.idx_test_fold * n_test\n",
    "    test_fold_end_index = (args.idx_test_fold + 1) * n_test\n",
    "\n",
    "    if split_type == 'random':\n",
    "        # Split data evenly among evenly spaced folds\n",
    "        # Determine if there is an outer testing fold\n",
    "        if args.idx_val_fold < 0:\n",
    "            idx_test = idx_shuffled[test_fold_start_index:test_fold_end_index]\n",
    "            idx_train = list(set(idx_shuffled).difference(set(idx_test)))\n",
    "        else:\n",
    "            validation_fold_start_index = args.idx_val_fold * n_test\n",
    "            validation_fold_end_index = (args.idx_val_fold + 1) * n_test\n",
    "            idx_test_remove = idx_shuffled[test_fold_start_index:test_fold_end_index]\n",
    "            idx_test = idx_shuffled[validation_fold_start_index:validation_fold_end_index]\n",
    "            idx_train = list(set(idx_shuffled).difference(set(idx_test)).difference(set(idx_test_remove)))\n",
    "    elif split_type == 'epitope':\n",
    "        if args.idx_val_fold < 0:\n",
    "            idx_test_pep = idx_shuffled[test_fold_start_index:test_fold_end_index]\n",
    "            test_peptides = unique_peptides[idx_test_pep]\n",
    "            idx_test = [index for index, pep in tqdm(enumerate(x_pep)) if pep in test_peptides]\n",
    "            idx_train = list(set(range(len(x_pep))).difference(set(idx_test)))\n",
    "        else:\n",
    "            validation_fold_start_index = args.idx_val_fold * n_test\n",
    "            validation_fold_end_index = (args.idx_val_fold + 1) * n_test\n",
    "            idx_test_remove_pep = idx_shuffled[test_fold_start_index:test_fold_end_index]\n",
    "            test_remove_peptides = unique_peptides[idx_test_remove_pep]\n",
    "            idx_test_pep = idx_shuffled[validation_fold_start_index:validation_fold_end_index]\n",
    "            test_peptides = unique_peptides[idx_test_pep]\n",
    "            idx_test = [index for index, pep in tqdm(enumerate(x_pep)) if pep in test_peptides]\n",
    "            idx_test_remove = [index for index, pep in enumerate(x_pep) if pep in test_remove_peptides]\n",
    "            idx_train = list(set(range(len(x_pep))).difference(set(idx_test)).difference(set(idx_test_remove)))\n",
    "    elif split_type == 'tcr':\n",
    "        if args.idx_val_fold < 0:\n",
    "            idx_test_tcr = idx_shuffled[test_fold_start_index:test_fold_end_index]\n",
    "            test_tcrs = unique_tcrs[idx_test_tcr]\n",
    "            idx_test = [index for index, tcr in tqdm(enumerate(x_tcr)) if tcr in test_tcrs]\n",
    "            idx_train = list(set(range(len(x_tcr))).difference(set(idx_test)))\n",
    "        else:\n",
    "            validation_fold_start_index = args.idx_val_fold * n_test\n",
    "            validation_fold_end_index = (args.idx_val_fold + 1) * n_test\n",
    "            idx_test_remove_tcr = idx_shuffled[test_fold_start_index:test_fold_end_index]\n",
    "            test_remove_tcrs = unique_tcrs[idx_test_remove_tcr]\n",
    "            idx_test_tcr = idx_shuffled[validation_fold_start_index:validation_fold_end_index]\n",
    "            test_tcrs = unique_tcrs[idx_test_tcr]\n",
    "            idx_test = [index for index, tcr in tqdm(enumerate(x_tcr)) if tcr in test_tcrs]\n",
    "            idx_test_remove = [index for index, tcr in enumerate(x_tcr) if tcr in test_remove_tcrs]\n",
    "            idx_train = list(set(range(len(x_tcr))).difference(set(idx_test)).difference(set(idx_test_remove)))\n",
    "\n",
    "    return idx_train, idx_test, idx_test_remove"
   ]
  },
  {
   "cell_type": "markdown",
   "metadata": {},
   "source": [
    "# TCR"
   ]
  },
  {
   "cell_type": "code",
   "execution_count": 61,
   "metadata": {},
   "outputs": [
    {
     "data": {
      "application/vnd.jupyter.widget-view+json": {
       "model_id": "81b657d872a94747b99332b13f3f1ffe",
       "version_major": 2,
       "version_minor": 0
      },
      "text/plain": [
       "0it [00:00, ?it/s]"
      ]
     },
     "metadata": {},
     "output_type": "display_data"
    }
   ],
   "source": [
    "with open('./data/dat_bencmarking_combined_tcr_data_shuffle.txt', 'r') as f:\n",
    "\tlines_tcr = f.readlines()\n",
    "lines_tcr = [int(l.rstrip('\\n')) for l in lines_tcr]\n",
    "train_tcr = np.array(lines_tcr)\n",
    "test_tcr = np.array(set(np.arange(len(training_set))) - set(train_tcr))\n",
    "\n",
    "@dataclass\n",
    "class Args:\n",
    "    split: str = 'tcr'\n",
    "    infile = str = './data/dat_bencmarking_combined.csv'\n",
    "    n_fold: int = 5\n",
    "    idx_test_fold: int = 0\n",
    "    idx_val_fold: int = -1\n",
    "\n",
    "id_train_tcr, id_test_tcr, id_test_rmv_tcr = load_data_split(training_set['epi'], training_set['tcr'], Args)"
   ]
  },
  {
   "cell_type": "code",
   "execution_count": 62,
   "metadata": {},
   "outputs": [],
   "source": [
    "train_dataset_tcr = training_set.iloc[id_train_tcr]\n",
    "test_dataset_tcr = training_set.iloc[id_test_tcr]\n",
    "tcr_readin = pd.read_csv('./data/tcr.csv', header=None, sep='\\t')\n",
    "tcr_dict = dict(zip(tcr_readin[0], tcr_readin[1]))\n",
    "epi_readin = pd.read_csv('./data/epitopes.csv', header=None, sep='\\t')\n",
    "epi_dict = dict(zip(epi_readin[0], epi_readin[1]))\n",
    "\n",
    "train_dataset_tcr_ready = pd.DataFrame({'ligand_name': train_dataset_tcr['epi'].map(epi_dict).fillna(-1),\n",
    "\t\t\t\t\t\t\t\t\t\t'sequence_id': train_dataset_tcr['tcr'].map(tcr_dict).fillna(-1),\n",
    "\t\t\t\t\t\t\t\t\t\t'label': train_dataset_tcr['binding']})\n",
    "train_dataset_tcr_ready.reset_index(drop=True, inplace=True)\n",
    "# train_dataset_tcr.loc[:,'tcr_idx'] = train_dataset_tcr['tcr'].map(tcr_dict).fillna(-1)\n",
    "# train_dataset_tcr.loc[:,'epi_idx'] = train_dataset_tcr['epi'].map(epi_dict).fillna(-1)\n",
    "# train_dataset_tcr.loc[:,'idx'] = np.arange(len(train_dataset_tcr))\n",
    "# train_dataset_tcr.set_index('idx', inplace=True)\n",
    "test_dataset_tcr_ready = pd.DataFrame({'ligand_name': test_dataset_tcr['epi'].map(epi_dict).fillna(-1),\n",
    "\t\t\t\t\t\t\t\t\t\t'sequence_id': test_dataset_tcr['tcr'].map(tcr_dict).fillna(-1),\n",
    "\t\t\t\t\t\t\t\t\t\t'label': test_dataset_tcr['binding']})\n",
    "test_dataset_tcr_ready.reset_index(drop=True, inplace=True)\n",
    "# test_dataset_tcr_ready.loc[:,'idx'] = np.arange(len(test_dataset_tcr_ready))\n",
    "# test_dataset_tcr_ready.set_index('idx', inplace=True)\n",
    "train_dataset_tcr_ready.to_csv('./data/tcr_train_split.csv', index=True, sep=',')\n",
    "test_dataset_tcr_ready.to_csv('./data/tcr_test_split.csv', index=True, sep=',')\n",
    "# test_dataset_tcr.loc[:,'tcr_idx'] = test_dataset_tcr['tcr'].map(tcr_dict).fillna(-1)\n",
    "# test_dataset_tcr.loc[:,'epi_idx'] = test_dataset_tcr['epi'].map(epi_dict).fillna(-1)\n",
    "# test_dataset_tcr.loc[:,'idx'] = np.arange(len(test_dataset_tcr))\n",
    "# test_dataset_tcr.set_index('idx', inplace=True)\n",
    "\n",
    "# train_csv_tcr = train_dataset_tcr[['epi_idx', 'tcr_idx', 'binding']]\n",
    "# test_csv_tcr = test_dataset_tcr[['epi_idx', 'tcr_idx', 'binding']]\n",
    "# train_csv_tcr.to_csv('./data/tcr_train_split.csv', index=True, header=['ligand_name','sequence_id','label'], sep=',')\n",
    "# test_csv_tcr.to_csv('./data/tcr_test_split.csv', index=True, header=['ligand_name','sequence_id','label'], sep=',')"
   ]
  },
  {
   "cell_type": "markdown",
   "metadata": {},
   "source": [
    "# Epitope"
   ]
  },
  {
   "cell_type": "code",
   "execution_count": 63,
   "metadata": {},
   "outputs": [
    {
     "ename": "FileNotFoundError",
     "evalue": "./data/combined_dataset_repTCRs_epitope_data_shuffle.txt not found.",
     "output_type": "error",
     "traceback": [
      "\u001b[0;31m---------------------------------------------------------------------------\u001b[0m",
      "\u001b[0;31mFileNotFoundError\u001b[0m                         Traceback (most recent call last)",
      "Cell \u001b[0;32mIn[63], line 15\u001b[0m\n\u001b[1;32m     12\u001b[0m     idx_test_fold: \u001b[38;5;28mint\u001b[39m \u001b[38;5;241m=\u001b[39m \u001b[38;5;241m0\u001b[39m\n\u001b[1;32m     13\u001b[0m     idx_val_fold: \u001b[38;5;28mint\u001b[39m \u001b[38;5;241m=\u001b[39m \u001b[38;5;241m-\u001b[39m\u001b[38;5;241m1\u001b[39m\n\u001b[0;32m---> 15\u001b[0m id_train_epi, id_test_epi, id_test_rmv_epi \u001b[38;5;241m=\u001b[39m \u001b[43mload_data_split\u001b[49m\u001b[43m(\u001b[49m\u001b[43mtraining_set\u001b[49m\u001b[43m[\u001b[49m\u001b[38;5;124;43m'\u001b[39;49m\u001b[38;5;124;43mepi\u001b[39;49m\u001b[38;5;124;43m'\u001b[39;49m\u001b[43m]\u001b[49m\u001b[43m,\u001b[49m\u001b[43m \u001b[49m\u001b[43mtraining_set\u001b[49m\u001b[43m[\u001b[49m\u001b[38;5;124;43m'\u001b[39;49m\u001b[38;5;124;43mtcr\u001b[39;49m\u001b[38;5;124;43m'\u001b[39;49m\u001b[43m]\u001b[49m\u001b[43m,\u001b[49m\u001b[43m \u001b[49m\u001b[43mArgs\u001b[49m\u001b[43m)\u001b[49m\n",
      "Cell \u001b[0;32mIn[60], line 18\u001b[0m, in \u001b[0;36mload_data_split\u001b[0;34m(x_pep, x_tcr, args)\u001b[0m\n\u001b[1;32m     15\u001b[0m     n_total \u001b[38;5;241m=\u001b[39m \u001b[38;5;28mlen\u001b[39m(unique_tcrs)\n\u001b[1;32m     17\u001b[0m indexfile \u001b[38;5;241m=\u001b[39m re\u001b[38;5;241m.\u001b[39msub(\u001b[38;5;124m'\u001b[39m\u001b[38;5;124m.csv\u001b[39m\u001b[38;5;124m'\u001b[39m, \u001b[38;5;124mf\u001b[39m\u001b[38;5;124m'\u001b[39m\u001b[38;5;124m_\u001b[39m\u001b[38;5;132;01m{\u001b[39;00msplit_type\u001b[38;5;132;01m}\u001b[39;00m\u001b[38;5;124m_data_shuffle.txt\u001b[39m\u001b[38;5;124m'\u001b[39m, args\u001b[38;5;241m.\u001b[39minfile)\n\u001b[0;32m---> 18\u001b[0m idx_shuffled \u001b[38;5;241m=\u001b[39m \u001b[43mnp\u001b[49m\u001b[38;5;241;43m.\u001b[39;49m\u001b[43mloadtxt\u001b[49m\u001b[43m(\u001b[49m\u001b[43mindexfile\u001b[49m\u001b[43m,\u001b[49m\u001b[43m \u001b[49m\u001b[43mdtype\u001b[49m\u001b[38;5;241;43m=\u001b[39;49m\u001b[43mnp\u001b[49m\u001b[38;5;241;43m.\u001b[39;49m\u001b[43mint32\u001b[49m\u001b[43m)\u001b[49m\n\u001b[1;32m     20\u001b[0m \u001b[38;5;66;03m# Determine data split from folds\u001b[39;00m\n\u001b[1;32m     21\u001b[0m n_test \u001b[38;5;241m=\u001b[39m \u001b[38;5;28mint\u001b[39m(\u001b[38;5;28mround\u001b[39m(n_total \u001b[38;5;241m/\u001b[39m args\u001b[38;5;241m.\u001b[39mn_fold))\n",
      "File \u001b[0;32m~/workspace/.conda/envs/bap_attack/lib/python3.10/site-packages/numpy/lib/npyio.py:1373\u001b[0m, in \u001b[0;36mloadtxt\u001b[0;34m(fname, dtype, comments, delimiter, converters, skiprows, usecols, unpack, ndmin, encoding, max_rows, quotechar, like)\u001b[0m\n\u001b[1;32m   1370\u001b[0m \u001b[38;5;28;01mif\u001b[39;00m \u001b[38;5;28misinstance\u001b[39m(delimiter, \u001b[38;5;28mbytes\u001b[39m):\n\u001b[1;32m   1371\u001b[0m     delimiter \u001b[38;5;241m=\u001b[39m delimiter\u001b[38;5;241m.\u001b[39mdecode(\u001b[38;5;124m'\u001b[39m\u001b[38;5;124mlatin1\u001b[39m\u001b[38;5;124m'\u001b[39m)\n\u001b[0;32m-> 1373\u001b[0m arr \u001b[38;5;241m=\u001b[39m \u001b[43m_read\u001b[49m\u001b[43m(\u001b[49m\u001b[43mfname\u001b[49m\u001b[43m,\u001b[49m\u001b[43m \u001b[49m\u001b[43mdtype\u001b[49m\u001b[38;5;241;43m=\u001b[39;49m\u001b[43mdtype\u001b[49m\u001b[43m,\u001b[49m\u001b[43m \u001b[49m\u001b[43mcomment\u001b[49m\u001b[38;5;241;43m=\u001b[39;49m\u001b[43mcomment\u001b[49m\u001b[43m,\u001b[49m\u001b[43m \u001b[49m\u001b[43mdelimiter\u001b[49m\u001b[38;5;241;43m=\u001b[39;49m\u001b[43mdelimiter\u001b[49m\u001b[43m,\u001b[49m\n\u001b[1;32m   1374\u001b[0m \u001b[43m            \u001b[49m\u001b[43mconverters\u001b[49m\u001b[38;5;241;43m=\u001b[39;49m\u001b[43mconverters\u001b[49m\u001b[43m,\u001b[49m\u001b[43m \u001b[49m\u001b[43mskiplines\u001b[49m\u001b[38;5;241;43m=\u001b[39;49m\u001b[43mskiprows\u001b[49m\u001b[43m,\u001b[49m\u001b[43m \u001b[49m\u001b[43musecols\u001b[49m\u001b[38;5;241;43m=\u001b[39;49m\u001b[43musecols\u001b[49m\u001b[43m,\u001b[49m\n\u001b[1;32m   1375\u001b[0m \u001b[43m            \u001b[49m\u001b[43munpack\u001b[49m\u001b[38;5;241;43m=\u001b[39;49m\u001b[43munpack\u001b[49m\u001b[43m,\u001b[49m\u001b[43m \u001b[49m\u001b[43mndmin\u001b[49m\u001b[38;5;241;43m=\u001b[39;49m\u001b[43mndmin\u001b[49m\u001b[43m,\u001b[49m\u001b[43m \u001b[49m\u001b[43mencoding\u001b[49m\u001b[38;5;241;43m=\u001b[39;49m\u001b[43mencoding\u001b[49m\u001b[43m,\u001b[49m\n\u001b[1;32m   1376\u001b[0m \u001b[43m            \u001b[49m\u001b[43mmax_rows\u001b[49m\u001b[38;5;241;43m=\u001b[39;49m\u001b[43mmax_rows\u001b[49m\u001b[43m,\u001b[49m\u001b[43m \u001b[49m\u001b[43mquote\u001b[49m\u001b[38;5;241;43m=\u001b[39;49m\u001b[43mquotechar\u001b[49m\u001b[43m)\u001b[49m\n\u001b[1;32m   1378\u001b[0m \u001b[38;5;28;01mreturn\u001b[39;00m arr\n",
      "File \u001b[0;32m~/workspace/.conda/envs/bap_attack/lib/python3.10/site-packages/numpy/lib/npyio.py:992\u001b[0m, in \u001b[0;36m_read\u001b[0;34m(fname, delimiter, comment, quote, imaginary_unit, usecols, skiplines, max_rows, converters, ndmin, unpack, dtype, encoding)\u001b[0m\n\u001b[1;32m    990\u001b[0m     fname \u001b[38;5;241m=\u001b[39m os\u001b[38;5;241m.\u001b[39mfspath(fname)\n\u001b[1;32m    991\u001b[0m \u001b[38;5;28;01mif\u001b[39;00m \u001b[38;5;28misinstance\u001b[39m(fname, \u001b[38;5;28mstr\u001b[39m):\n\u001b[0;32m--> 992\u001b[0m     fh \u001b[38;5;241m=\u001b[39m \u001b[43mnp\u001b[49m\u001b[38;5;241;43m.\u001b[39;49m\u001b[43mlib\u001b[49m\u001b[38;5;241;43m.\u001b[39;49m\u001b[43m_datasource\u001b[49m\u001b[38;5;241;43m.\u001b[39;49m\u001b[43mopen\u001b[49m\u001b[43m(\u001b[49m\u001b[43mfname\u001b[49m\u001b[43m,\u001b[49m\u001b[43m \u001b[49m\u001b[38;5;124;43m'\u001b[39;49m\u001b[38;5;124;43mrt\u001b[39;49m\u001b[38;5;124;43m'\u001b[39;49m\u001b[43m,\u001b[49m\u001b[43m \u001b[49m\u001b[43mencoding\u001b[49m\u001b[38;5;241;43m=\u001b[39;49m\u001b[43mencoding\u001b[49m\u001b[43m)\u001b[49m\n\u001b[1;32m    993\u001b[0m     \u001b[38;5;28;01mif\u001b[39;00m encoding \u001b[38;5;129;01mis\u001b[39;00m \u001b[38;5;28;01mNone\u001b[39;00m:\n\u001b[1;32m    994\u001b[0m         encoding \u001b[38;5;241m=\u001b[39m \u001b[38;5;28mgetattr\u001b[39m(fh, \u001b[38;5;124m'\u001b[39m\u001b[38;5;124mencoding\u001b[39m\u001b[38;5;124m'\u001b[39m, \u001b[38;5;124m'\u001b[39m\u001b[38;5;124mlatin1\u001b[39m\u001b[38;5;124m'\u001b[39m)\n",
      "File \u001b[0;32m~/workspace/.conda/envs/bap_attack/lib/python3.10/site-packages/numpy/lib/_datasource.py:193\u001b[0m, in \u001b[0;36mopen\u001b[0;34m(path, mode, destpath, encoding, newline)\u001b[0m\n\u001b[1;32m    156\u001b[0m \u001b[38;5;250m\u001b[39m\u001b[38;5;124;03m\"\"\"\u001b[39;00m\n\u001b[1;32m    157\u001b[0m \u001b[38;5;124;03mOpen `path` with `mode` and return the file object.\u001b[39;00m\n\u001b[1;32m    158\u001b[0m \n\u001b[0;32m   (...)\u001b[0m\n\u001b[1;32m    189\u001b[0m \n\u001b[1;32m    190\u001b[0m \u001b[38;5;124;03m\"\"\"\u001b[39;00m\n\u001b[1;32m    192\u001b[0m ds \u001b[38;5;241m=\u001b[39m DataSource(destpath)\n\u001b[0;32m--> 193\u001b[0m \u001b[38;5;28;01mreturn\u001b[39;00m \u001b[43mds\u001b[49m\u001b[38;5;241;43m.\u001b[39;49m\u001b[43mopen\u001b[49m\u001b[43m(\u001b[49m\u001b[43mpath\u001b[49m\u001b[43m,\u001b[49m\u001b[43m \u001b[49m\u001b[43mmode\u001b[49m\u001b[43m,\u001b[49m\u001b[43m \u001b[49m\u001b[43mencoding\u001b[49m\u001b[38;5;241;43m=\u001b[39;49m\u001b[43mencoding\u001b[49m\u001b[43m,\u001b[49m\u001b[43m \u001b[49m\u001b[43mnewline\u001b[49m\u001b[38;5;241;43m=\u001b[39;49m\u001b[43mnewline\u001b[49m\u001b[43m)\u001b[49m\n",
      "File \u001b[0;32m~/workspace/.conda/envs/bap_attack/lib/python3.10/site-packages/numpy/lib/_datasource.py:533\u001b[0m, in \u001b[0;36mDataSource.open\u001b[0;34m(self, path, mode, encoding, newline)\u001b[0m\n\u001b[1;32m    530\u001b[0m     \u001b[38;5;28;01mreturn\u001b[39;00m _file_openers[ext](found, mode\u001b[38;5;241m=\u001b[39mmode,\n\u001b[1;32m    531\u001b[0m                               encoding\u001b[38;5;241m=\u001b[39mencoding, newline\u001b[38;5;241m=\u001b[39mnewline)\n\u001b[1;32m    532\u001b[0m \u001b[38;5;28;01melse\u001b[39;00m:\n\u001b[0;32m--> 533\u001b[0m     \u001b[38;5;28;01mraise\u001b[39;00m \u001b[38;5;167;01mFileNotFoundError\u001b[39;00m(\u001b[38;5;124mf\u001b[39m\u001b[38;5;124m\"\u001b[39m\u001b[38;5;132;01m{\u001b[39;00mpath\u001b[38;5;132;01m}\u001b[39;00m\u001b[38;5;124m not found.\u001b[39m\u001b[38;5;124m\"\u001b[39m)\n",
      "\u001b[0;31mFileNotFoundError\u001b[0m: ./data/combined_dataset_repTCRs_epitope_data_shuffle.txt not found."
     ]
    }
   ],
   "source": [
    "with open('./data/dat_bencmarking_combined_tcr_data_shuffle.txt', 'r') as f:\n",
    "\tlines_epi = f.readlines()\n",
    "lines_epi = [int(l.rstrip('\\n')) for l in lines_epi]\n",
    "train_epi = np.array(lines_epi)\n",
    "train_epi = np.array(set(np.arange(len(training_set))) - set(train_epi))\n",
    "\n",
    "@dataclass\n",
    "class Args:\n",
    "    split: str = 'epitope'\n",
    "    infile = str = './data/combined_dataset_repTCRs.csv'\n",
    "    n_fold: int = 5\n",
    "    idx_test_fold: int = 0\n",
    "    idx_val_fold: int = -1\n",
    "\n",
    "id_train_epi, id_test_epi, id_test_rmv_epi = load_data_split(training_set['epi'], training_set['tcr'], Args)"
   ]
  },
  {
   "cell_type": "code",
   "execution_count": 55,
   "metadata": {},
   "outputs": [],
   "source": [
    "train_dataset_epi = training_set.iloc[id_train_epi]\n",
    "test_dataset_epi = training_set.iloc[id_test_epi]\n",
    "epi_readin = pd.read_csv('./data/tcr.csv', header=None, sep='\\t')\n",
    "epi_dict = dict(zip(epi_readin[0], epi_readin[1]))\n",
    "epi_readin = pd.read_csv('./data/epitopes.csv', header=None, sep='\\t')\n",
    "epi_dict = dict(zip(epi_readin[0], epi_readin[1]))\n",
    "\n",
    "# train_dataset_epi.loc[: ,'tcr_idx'] = train_dataset_epi.iloc['tcr'].map(tcr_dict).fillna(-1)\n",
    "# train_dataset_epi.loc[: ,'epi_idx'] = train_dataset_epi.iloc['epi'].map(epi_dict).fillna(-1)\n",
    "# test_dataset_epi.loc[: ,'tcr_idx'] = test_dataset_epi.iloc['tcr'].map(tcr_dict).fillna(-1)\n",
    "# test_dataset_epi.loc[: ,'epi_idx'] = test_dataset_epi.iloc['epi'].map(epi_dict).fillna(-1)\n",
    "# test_dataset_tcr.loc[: ,'idx'] = np.arange(len(test_dataset_tcr))\n",
    "# test_dataset_tcr.set_index('idx', inplace=True)\n",
    "train_dataset_epi_ready = pd.DataFrame({'ligand_name': train_dataset_epi['epi'].map(epi_dict).fillna(-1),\n",
    "\t\t\t\t\t\t\t\t\t\t'sequence_id': train_dataset_epi['tcr'].map(tcr_dict).fillna(-1),\n",
    "\t\t\t\t\t\t\t\t\t\t'label': train_dataset_epi['binding']})\n",
    "train_dataset_epi_ready.reset_index(drop=True, inplace=True)\n",
    "\n",
    "\n",
    "\n",
    "test_dataset_epi_ready = pd.DataFrame({'ligand_name': test_dataset_epi['epi'].map(epi_dict).fillna(-1),\n",
    "\t\t\t\t\t\t\t\t\t\t'sequence_id': test_dataset_epi['tcr'].map(tcr_dict).fillna(-1),\n",
    "\t\t\t\t\t\t\t\t\t\t'label': test_dataset_epi['binding']})\n",
    "test_dataset_epi_ready.reset_index(drop=True, inplace=True)\n",
    "\n",
    "\n",
    "train_dataset_epi_ready.to_csv('./data/epi_train_split.csv', index=True, sep=',')\n",
    "test_dataset_epi_ready.to_csv('./data/epi_test_split.csv', index=True, sep=',')\n",
    "# train_csv_epi = train_dataset_epi[['epi_idx', 'tcr_idx', 'binding']]\n",
    "# test_csv_epi = test_dataset_epi[['epi_idx', 'tcr_idx', 'binding']]\n",
    "# train_csv_epi.to_csv('./data/epi_train_split.csv', index=True, header=['ligand_name','sequence_id','label'], sep=',')\n",
    "# test_csv_epi.to_csv('./data/epi_test_split.csv', index=True, header=['ligand_name','sequence_id','label'], sep=',')"
   ]
  },
  {
   "cell_type": "code",
   "execution_count": 56,
   "metadata": {},
   "outputs": [],
   "source": [
    "tcr_readin = pd.read_csv('./data/tcr.csv', header=None, sep='\\t')\n",
    "tcr_dict = dict(zip(tcr_readin[0], tcr_readin[1]))\n",
    "epi_readin = pd.read_csv('./data/epitopes.csv', header=None, sep='\\t')\n",
    "epi_dict = dict(zip(epi_readin[0], epi_readin[1]))"
   ]
  },
  {
   "cell_type": "code",
   "execution_count": 51,
   "metadata": {},
   "outputs": [],
   "source": [
    "epi_dict_rev =  dict(zip(epi_readin[1], epi_readin[0]))\n",
    "tcr_dict_rev =  dict(zip(tcr_readin[1], tcr_readin[0]))"
   ]
  },
  {
   "cell_type": "code",
   "execution_count": 52,
   "metadata": {},
   "outputs": [],
   "source": [
    "tcr_train_split = pd.read_csv('./data/tcr_train_split.csv', index_col=0)\n",
    "tcr_test_split = pd.read_csv('./data/tcr_test_split.csv', index_col=0)\n",
    "train_pred = {epi_dict_rev[row['ligand_name']]+tcr_dict_rev[row['sequence_id']]: row['label']  for index, row in tcr_train_split.iterrows()}\n",
    "test_pred = {epi_dict_rev[row['ligand_name']]+tcr_dict_rev[row['sequence_id']]: row['label']  for index, row in tcr_test_split.iterrows()}"
   ]
  },
  {
   "cell_type": "code",
   "execution_count": 53,
   "metadata": {},
   "outputs": [],
   "source": [
    "training_set = pd.read_csv('./data/combined_dataset_repTCRs.csv')\n",
    "label = {row['epi']+row['tcr']: row['binding']  for index, row in training_set.iterrows()}"
   ]
  },
  {
   "cell_type": "code",
   "execution_count": 54,
   "metadata": {},
   "outputs": [
    {
     "name": "stdout",
     "output_type": "stream",
     "text": [
      "300015\n"
     ]
    }
   ],
   "source": [
    "for idx, val in enumerate(label):\n",
    "\ttry: \n",
    "\t\tassert label[val] == train_pred[val]\n",
    "\texcept KeyError:\n",
    "\t\ttry:\n",
    "\t\t\tassert label[val] == test_pred[val]\n",
    "\t\texcept KeyError:\n",
    "\t\t\tprint('wrong')\n",
    "print(idx)"
   ]
  },
  {
   "cell_type": "code",
   "execution_count": 57,
   "metadata": {},
   "outputs": [],
   "source": [
    "epi_train_split = pd.read_csv('./data/epi_train_split.csv', index_col=0)\n",
    "epi_test_split = pd.read_csv('./data/epi_test_split.csv', index_col=0)\n",
    "train_pred = {epi_dict_rev[row['ligand_name']]+tcr_dict_rev[row['sequence_id']]: row['label']  for index, row in epi_train_split.iterrows()}\n",
    "test_pred = {epi_dict_rev[row['ligand_name']]+tcr_dict_rev[row['sequence_id']]: row['label']  for index, row in epi_test_split.iterrows()}"
   ]
  },
  {
   "cell_type": "code",
   "execution_count": 58,
   "metadata": {},
   "outputs": [
    {
     "name": "stdout",
     "output_type": "stream",
     "text": [
      "300015\n"
     ]
    }
   ],
   "source": [
    "for idx, val in enumerate(label):\n",
    "\ttry: \n",
    "\t\tassert label[val] == train_pred[val]\n",
    "\texcept KeyError:\n",
    "\t\ttry:\n",
    "\t\t\tassert label[val] == test_pred[val]\n",
    "\t\texcept KeyError:\n",
    "\t\t\tprint('wrong')\n",
    "print(idx)"
   ]
  },
  {
   "cell_type": "markdown",
   "metadata": {},
   "source": [
    "# To upper"
   ]
  },
  {
   "cell_type": "code",
   "execution_count": 60,
   "metadata": {},
   "outputs": [],
   "source": [
    "tcr = pd.read_csv('./data/tcr.csv', header=None, sep='\\t')\t\n",
    "tcr[0] = tcr[0].str.upper()\n",
    "tcr.to_csv('./data/tcr.csv', header=None, sep='\\t')\t"
   ]
  },
  {
   "cell_type": "markdown",
   "metadata": {},
   "source": [
    "# Vis"
   ]
  },
  {
   "cell_type": "code",
   "execution_count": 3,
   "metadata": {},
   "outputs": [],
   "source": [
    "import pandas as pd\n",
    "import numpy as np\n",
    "import matplotlib.pyplot as plt"
   ]
  },
  {
   "cell_type": "code",
   "execution_count": 4,
   "metadata": {},
   "outputs": [],
   "source": [
    "db = pd.read_csv('./log/tmp_epis_tcrs_atm-tcratm_tcr-tcr_output.csv')\n",
    "\n",
    "std_list = []\n",
    "mean_list = []\n",
    "arr_list = []\n",
    "for i in range(max(db['Iter'])):\n",
    "\ttest = db[db['Iter'] == i+1]\n",
    "\tepo = test[test['TCRs'] != 'WRONGFORMAT']\n",
    "\t# epo = test\n",
    "\tarr = np.array(epo['yhat'].apply(eval).tolist())\n",
    "\tarr_list.append(arr)\n",
    "\tstd_list.append(arr.std())\n",
    "\tmean_list.append(arr.mean())\n",
    "# Generate example data\n",
    "x = range(1, len(mean_list)+1)\n",
    "y = mean_list\n",
    "y_std = std_list  # Mean (example)\n",
    "\n",
    "# Calculate the mean and standard deviation (for demonstration purposes)\n",
    "x_tcr = x[:40]\n",
    "mean_tcr = np.array(y)[:40]\n",
    "std_tcr = np.array(y_std)[:40]"
   ]
  },
  {
   "cell_type": "code",
   "execution_count": 5,
   "metadata": {},
   "outputs": [],
   "source": [
    "tt = './log/tmp_epis_tcrs_titanbest_ROC-AUC_bimodal_mca_output.csv'\n",
    "db = pd.read_csv(tt)\n",
    "\n",
    "std_list = []\n",
    "mean_list = []\n",
    "arr_list = []\n",
    "for i in range(max(db['Iter'])):\n",
    "\ttest = db[db['Iter'] == i+1]\n",
    "\t# epo = test[test['TCRs'] != 'WRONGFORMAT']\n",
    "\tepo = test\n",
    "\tarr = np.array(epo['yhat'].apply(eval).tolist())\n",
    "\tarr_list.append(arr)\n",
    "\tstd_list.append(arr.std())\n",
    "\tmean_list.append(arr.mean())\n",
    "\t\n",
    "x = range(1, len(mean_list)+1)\n",
    "y = mean_list\n",
    "y_std = std_list  # Mean (example)\n",
    "\n",
    "# Calculate the mean and standard deviation (for demonstration purposes)\n",
    "x_titan = x[:40]\n",
    "mean_titan = np.array(y)[:40]\n",
    "std_titan = np.array(y_std)[:40]\n"
   ]
  },
  {
   "cell_type": "code",
   "execution_count": 6,
   "metadata": {},
   "outputs": [],
   "source": [
    "tt = './log/tmp_epis_tcrs_ergoergo_tcr_lstm_model_output.csv'\n",
    "db = pd.read_csv(tt)\n",
    "\n",
    "std_list = []\n",
    "mean_list = []\n",
    "arr_list = []\n",
    "for i in range(max(db['Iter'])):\n",
    "\ttest = db[db['Iter'] == i+1]\n",
    "\t# epo = test[test['TCRs'] != 'WRONGFORMAT']\n",
    "\tepo = test\n",
    "\tarr = np.array(epo['yhat'].apply(eval).tolist())\n",
    "\tarr_list.append(arr)\n",
    "\tstd_list.append(arr.std())\n",
    "\tmean_list.append(arr.mean())\n",
    "\t\n",
    "x = range(1, len(mean_list)+1)\n",
    "y = mean_list\n",
    "y_std = std_list  # Mean (example)\n",
    "\n",
    "# Calculate the mean and standard deviation (for demonstration purposes)\n",
    "x_ergolstm = x[:40]\n",
    "mean_ergolstm = np.array(y)[:40]\n",
    "std_ergolstm = np.array(y_std)[:40]\n"
   ]
  },
  {
   "cell_type": "code",
   "execution_count": 7,
   "metadata": {},
   "outputs": [],
   "source": [
    "tt = './log/tmp_epis_tcrs_ergoergo_tcr_ae_model_output.csv'\n",
    "db = pd.read_csv(tt)\n",
    "\n",
    "std_list = []\n",
    "mean_list = []\n",
    "arr_list = []\n",
    "for i in range(max(db['Iter'])):\n",
    "\ttest = db[db['Iter'] == i+1]\n",
    "\t# epo = test[test['TCRs'] != 'WRONGFORMAT']\n",
    "\tepo = test\n",
    "\tarr = np.array(epo['yhat'].apply(eval).tolist())\n",
    "\tarr_list.append(arr)\n",
    "\tstd_list.append(arr.std())\n",
    "\tmean_list.append(arr.mean())\n",
    "\t\n",
    "x = range(1, len(mean_list)+1)\n",
    "y = mean_list\n",
    "y_std = std_list  # Mean (example)\n",
    "\n",
    "# Calculate the mean and standard deviation (for demonstration purposes)\n",
    "x_ergoae = x[:40]\n",
    "mean_ergoae = np.array(y)[:40]\n",
    "std_ergoae = np.array(y_std)[:40]\n"
   ]
  },
  {
   "cell_type": "code",
   "execution_count": 8,
   "metadata": {},
   "outputs": [
    {
     "data": {
      "image/png": "[encoded data removed]",
      "text/plain": [
       "<Figure size 640x480 with 1 Axes>"
      ]
     },
     "metadata": {},
     "output_type": "display_data"
    }
   ],
   "source": [
    "\n",
    "\n",
    "plt.plot(x_titan, mean_titan, label='Titan', color='b')\n",
    "# Plot the standard deviation as a shaded region\n",
    "plt.fill_between(x_titan, mean_titan - std_titan, mean_titan + std_titan, color='b', alpha=0.1)\n",
    "plt.plot(x_tcr, mean_tcr, label='ATM-TCR', color='r')\n",
    "# Plot the standard deviation as a shaded region\n",
    "plt.fill_between(x_tcr, mean_tcr - std_tcr, mean_tcr + std_tcr, color='r', alpha=0.1)\n",
    "\n",
    "plt.plot(x_ergolstm, mean_ergolstm, label='ERGO-lstm', color='g')\n",
    "# Plot the standard deviation as a shaded region\n",
    "plt.fill_between(x_ergolstm, mean_ergolstm - std_ergolstm, mean_ergolstm + std_ergolstm, color='g', alpha=0.1)\n",
    "\n",
    "plt.plot(x_ergoae, mean_ergoae, label='ERGO-ae', color='c')\n",
    "# Plot the standard deviation as a shaded region\n",
    "plt.fill_between(x_ergoae, mean_ergoae - std_ergoae, mean_ergoae + std_ergoae, color='c', alpha=0.1)\n",
    "\n",
    "# Add labels and title\n",
    "plt.title(\"Score over Epochs\")\n",
    "plt.xlabel(\"Score\")\n",
    "plt.ylabel(\"Epochs\")\n",
    "\n",
    "\n",
    "\n",
    "# Show legend\n",
    "plt.legend()\n",
    "# Show the plot\n",
    "plt.show()"
   ]
  },
  {
   "cell_type": "code",
   "execution_count": null,
   "metadata": {},
   "outputs": [],
   "source": []
  },
  {
   "cell_type": "code",
   "execution_count": 99,
   "metadata": {},
   "outputs": [
    {
     "data": {
      "text/plain": [
       "40"
      ]
     },
     "execution_count": 99,
     "metadata": {},
     "output_type": "execute_result"
    }
   ],
   "source": [
    "len(mean_titan)\n"
   ]
  },
  {
   "cell_type": "code",
   "execution_count": null,
   "metadata": {},
   "outputs": [],
   "source": []
  },
  {
   "cell_type": "code",
   "execution_count": 9,
   "metadata": {},
   "outputs": [],
   "source": [
    "metric = './metrics/dat_benchmarking_final.csv'\n",
    "db = pd.read_csv(metric)\n",
    "methods = ['yhat_catELMo', 'yhat_pite', 'yhat_titan',\n",
    "       'yhat_atmtcr', 'yhat_ergolstm', 'yhat_ergoae']\n",
    "rate = []\n",
    "for method in methods:\n",
    "\tval = db[method].apply(eval).apply(lambda x: x[0])\n",
    "\tneg = val[val <=0]\n",
    "\trate.append(len(neg) / len(val))\n",
    "\n"
   ]
  },
  {
   "cell_type": "code",
   "execution_count": 11,
   "metadata": {},
   "outputs": [
    {
     "data": {
      "text/plain": [
       "0      -4.284209\n",
       "1      -1.189537\n",
       "2      -4.511186\n",
       "3      -4.613606\n",
       "4      -0.692551\n",
       "          ...   \n",
       "7675    2.175501\n",
       "7676    1.014653\n",
       "7677    1.240584\n",
       "7678    1.544428\n",
       "7679    1.415443\n",
       "Name: yhat_ergoae, Length: 7680, dtype: float64"
      ]
     },
     "execution_count": 11,
     "metadata": {},
     "output_type": "execute_result"
    }
   ],
   "source": [
    "db[method].apply(eval).apply(lambda x: x[0])"
   ]
  },
  {
   "cell_type": "code",
   "execution_count": null,
   "metadata": {},
   "outputs": [],
   "source": [
    "import matplotlib.pyplot as plt\n",
    "import numpy as np\n",
    "plt.figure(figsize=(12, 480))\n",
    "# Generate some discrete example data\n",
    "x = np.arange(7680)  # Index values\n",
    "# Generate some example labels (3 different labels: 0, 1, 2)\n",
    "\n",
    "# Define colors and markers for each label\n",
    "colors = {0: 'r', 1: 'g', 2: 'b', 3:'c', 4: 'y', 5: 'm'}\n",
    "\n",
    "# Create the scatter plot\n",
    "for idx, method in enumerate(methods):\n",
    "    plt.barh(x, db[method].apply(eval).apply(lambda x: x[0]), color=colors[idx], label=f'{method}', alpha=0.8)\n",
    "\n",
    "# Add labels and title\n",
    "plt.title(\"Scatter Plot for Multiple Labeled Data\")\n",
    "plt.xlabel(\"Index (x)\")\n",
    "plt.ylabel(\"Value (y)\")\n",
    "\n",
    "# Add grid lines\n",
    "plt.grid(True)\n",
    "\n",
    "# Show legend\n",
    "plt.legend()\n",
    "\n",
    "# Show the plot\n",
    "plt.show()"
   ]
  },
  {
   "cell_type": "code",
   "execution_count": null,
   "metadata": {},
   "outputs": [],
   "source": [
    "metric = './metrics/dat_benchmarking_final.csv'\n",
    "db = pd.read_csv(metric)\n",
    "# Plot for ‘yhat_catELMo’ and ‘yhat_pite’\n",
    "df_downsampled = db\n"
   ]
  },
  {
   "cell_type": "code",
   "execution_count": 42,
   "metadata": {},
   "outputs": [
    {
     "data": {
      "image/png": "[encoded data removed]",
      "text/plain": [
       "<Figure size 1200x600 with 1 Axes>"
      ]
     },
     "metadata": {},
     "output_type": "display_data"
    }
   ],
   "source": [
    "\n",
    "plt.figure(figsize=(12, 6))\n",
    "# plt.plot(df_downsampled['yhat_catELMo'].apply(eval).apply(lambda x: x[0]), label='yhat_catELMo', color='blue', alpha=0.5)\n",
    "# plt.plot(df_downsampled['yhat_pite'].apply(eval).apply(lambda x: x[0]), label='yhat_pite', color='red', alpha=0.5)\n",
    "plt.plot(df_downsampled['yhat_titan'].apply(eval).apply(lambda x: x[0]), label='yhat_titan', color='b', alpha=0.5)\n",
    "plt.plot(df_downsampled['yhat_atmtcr'].apply(eval).apply(lambda x: x[0]), label='yhatyhat_atmtcr_pite', color='c', alpha=0.5)\n",
    "# plt.plot(df_downsampled['yhat_ergolstm'].apply(eval).apply(lambda x: x[0]), label='yhat_ergolstm', color='m', alpha=0.5)\n",
    "# plt.plot(df_downsampled['yhat_ergoae'].apply(eval).apply(lambda x: x[0]), label='yhat_ergoae', color='y', alpha=0.5)\n",
    "\n",
    "plt.xlabel('Index')\n",
    "plt.ylabel('Logits')\n",
    "plt.title('Downsampled yhat_catELMo and yhat_pite')\n",
    "plt.legend()\n",
    "plt.grid(True)\n",
    "# Show plot\n",
    "plt.show()"
   ]
  },
  {
   "cell_type": "code",
   "execution_count": 37,
   "metadata": {},
   "outputs": [
    {
     "data": {
      "text/plain": [
       "0       11.656314\n",
       "1       22.087420\n",
       "2       19.625666\n",
       "3       26.504938\n",
       "4       16.074224\n",
       "          ...    \n",
       "7675    -2.975493\n",
       "7676     3.406330\n",
       "7677     2.813263\n",
       "7678     4.367562\n",
       "7679     2.974669\n",
       "Name: yhat_catELMo, Length: 7680, dtype: float64"
      ]
     },
     "execution_count": 37,
     "metadata": {},
     "output_type": "execute_result"
    }
   ],
   "source": [
    "df_downsampled['yhat_catELMo'].apply(eval).apply(lambda x: x[0])"
   ]
  },
  {
   "cell_type": "code",
   "execution_count": 23,
   "metadata": {},
   "outputs": [
    {
     "data": {
      "image/png": "[encoded data removed]",
      "text/plain": [
       "<Figure size 1200x600 with 1 Axes>"
      ]
     },
     "metadata": {},
     "output_type": "display_data"
    }
   ],
   "source": [
    "import matplotlib.pyplot as plt\n",
    "import numpy as np\n",
    "\n",
    "# Generate some discrete example data (current values and previous reference values)\n",
    "benchmark = ['Titian test', 'Titian benchmark', 'ATM-TCR test', 'ATM-TCR benchmark']  # Indices (0, 1, 2, ..., 29)\n",
    "y_reference = np.array([0.793, 0.472, 0.941, 0.762])  # Current values\n",
    "y = np.array([0.607, 0.933, 0.919, 0.881])  # Reference (previous) values\n",
    "\n",
    "import matplotlib.pyplot as plt\n",
    "import numpy as np\n",
    "\n",
    "# Provided data\n",
    "# benchmark = ['Titian test', 'Titian benchmark', 'ATM-TCR test', 'ATM-TCR benchmark']  # Benchmark labels\n",
    "# y_reference = np.array([0.793, 0.472, 0.941, 0.762])  # Reference values\n",
    "# y = np.array([0.607, 0.933, 0.919, 0.881])  # Current values\n",
    "\n",
    "# Identify the bars that have dropped or increased\n",
    "dropped_mask = y < y_reference  # Where the values have dropped\n",
    "increased_mask = y > y_reference  # Where the values have increased\n",
    "\n",
    "# Calculate the difference between the reference and current values\n",
    "dropped_values = y_reference - y  # Difference when values dropped\n",
    "\n",
    "# Create a single figure\n",
    "plt.figure(figsize=(12, 6))\n",
    "\n",
    "# Plot the dropped portion (blank or light color)\n",
    "plt.bar(np.array(benchmark), y_reference, color='lightgray', label='Before fine-tuning')\n",
    "\n",
    "# # Plot the remaining portion (colored) for dropped values\n",
    "plt.bar(np.array(benchmark)[dropped_mask], y[dropped_mask], color='r', label='Decreased after fine-tuning')\n",
    "\n",
    "# # Plot the increased portion for increased values\n",
    "plt.bar(np.array(benchmark)[increased_mask], y[increased_mask]-y_reference[increased_mask], color='g', label='Increased after fine-tuning', bottom=y_reference[increased_mask])\n",
    "\n",
    "plt.title(\"Fine-tuning with 0.01 original learning rate\")\n",
    "plt.xlabel(\"Methods-Dataset\")\n",
    "plt.ylabel(\"AUC\")\n",
    "plt.grid(True)\n",
    "plt.legend()\n",
    "plt.show()"
   ]
  },
  {
   "cell_type": "code",
   "execution_count": 25,
   "metadata": {},
   "outputs": [
    {
     "data": {
      "image/png": "[encoded data removed]",
      "text/plain": [
       "<Figure size 1200x600 with 1 Axes>"
      ]
     },
     "metadata": {},
     "output_type": "display_data"
    }
   ],
   "source": [
    "import matplotlib.pyplot as plt\n",
    "import numpy as np\n",
    "\n",
    "# Generate some discrete example data (current values and previous reference values)\n",
    "benchmark = ['Titian test', 'Titian benchmark', 'ATM-TCR test', 'ATM-TCR benchmark']  # Indices (0, 1, 2, ..., 29)\n",
    "y_reference = np.array([0.708, 0.515, 0.616, 0.476])  # Current values\n",
    "y = np.array([0.534, 0.851, 0.506, 0.881])  # Reference (previous) values\n",
    "\n",
    "import matplotlib.pyplot as plt\n",
    "import numpy as np\n",
    "\n",
    "# Provided data\n",
    "# benchmark = ['Titian test', 'Titian benchmark', 'ATM-TCR test', 'ATM-TCR benchmark']  # Benchmark labels\n",
    "# y_reference = np.array([0.793, 0.472, 0.941, 0.762])  # Reference values\n",
    "# y = np.array([0.607, 0.933, 0.919, 0.881])  # Current values\n",
    "\n",
    "# Identify the bars that have dropped or increased\n",
    "dropped_mask = y < y_reference  # Where the values have dropped\n",
    "increased_mask = y > y_reference  # Where the values have increased\n",
    "\n",
    "# Calculate the difference between the reference and current values\n",
    "dropped_values = y_reference - y  # Difference when values dropped\n",
    "\n",
    "# Create a single figure\n",
    "plt.figure(figsize=(12, 6))\n",
    "\n",
    "# Plot the dropped portion (blank or light color)\n",
    "plt.bar(np.array(benchmark), y_reference, color='lightgray', label='Before fine-tuning')\n",
    "\n",
    "# # Plot the remaining portion (colored) for dropped values\n",
    "plt.bar(np.array(benchmark)[dropped_mask], y[dropped_mask], color='r', label='After fine-tuning')\n",
    "\n",
    "# # Plot the increased portion for increased values\n",
    "plt.bar(np.array(benchmark)[increased_mask], y[increased_mask]-y_reference[increased_mask], color='g', label='Increased', bottom=y_reference[increased_mask])\n",
    "\n",
    "plt.title(\"Fine-tuning with 0.01 original learning rate\")\n",
    "plt.xlabel(\"Methods-Dataset\")\n",
    "plt.ylabel(\"Accuracy\")\n",
    "plt.grid(True)\n",
    "plt.legend()\n",
    "plt.show()"
   ]
  },
  {
   "cell_type": "markdown",
   "metadata": {},
   "source": [
    "# Prepare strict/epitope split"
   ]
  },
  {
   "cell_type": "code",
   "execution_count": 2,
   "metadata": {},
   "outputs": [],
   "source": [
    "import numpy as np\n",
    "import pandas as pd\n",
    "import sys\n",
    "from pathlib import Path\n",
    "parent = str(Path.cwd().parent)\n",
    "sys.path.append(parent)\n",
    "from tcr_utils.pd_filter import count_entriesByKey"
   ]
  },
  {
   "cell_type": "code",
   "execution_count": 3,
   "metadata": {},
   "outputs": [],
   "source": [
    "contents = pd.read_csv('data/combined_dataset_repTCRs.csv')\n",
    "positive = contents[contents['binding'] == 1]"
   ]
  },
  {
   "cell_type": "code",
   "execution_count": 4,
   "metadata": {},
   "outputs": [],
   "source": [
    "tcr_count = count_entriesByKey(positive, 'TCRs')"
   ]
  },
  {
   "cell_type": "code",
   "execution_count": 10,
   "metadata": {},
   "outputs": [
    {
     "data": {
      "text/html": [
       "<div>\n",
       "<style scoped>\n",
       "    .dataframe tbody tr th:only-of-type {\n",
       "        vertical-align: middle;\n",
       "    }\n",
       "\n",
       "    .dataframe tbody tr th {\n",
       "        vertical-align: top;\n",
       "    }\n",
       "\n",
       "    .dataframe thead th {\n",
       "        text-align: right;\n",
       "    }\n",
       "</style>\n",
       "<table border=\"1\" class=\"dataframe\">\n",
       "  <thead>\n",
       "    <tr style=\"text-align: right;\">\n",
       "      <th></th>\n",
       "      <th>name</th>\n",
       "      <th>count</th>\n",
       "    </tr>\n",
       "  </thead>\n",
       "  <tbody>\n",
       "    <tr>\n",
       "      <th>0</th>\n",
       "      <td>SHAGLGVEQ</td>\n",
       "      <td>35</td>\n",
       "    </tr>\n",
       "    <tr>\n",
       "      <th>1</th>\n",
       "      <td>CASTGSYGYTFGSGTRLTVT</td>\n",
       "      <td>33</td>\n",
       "    </tr>\n",
       "    <tr>\n",
       "      <th>2</th>\n",
       "      <td>CASSVLNTGELFF</td>\n",
       "      <td>25</td>\n",
       "    </tr>\n",
       "    <tr>\n",
       "      <th>3</th>\n",
       "      <td>CASRGQNTGELFF</td>\n",
       "      <td>25</td>\n",
       "    </tr>\n",
       "    <tr>\n",
       "      <th>4</th>\n",
       "      <td>CASSLGGYEQYF</td>\n",
       "      <td>18</td>\n",
       "    </tr>\n",
       "    <tr>\n",
       "      <th>...</th>\n",
       "      <td>...</td>\n",
       "      <td>...</td>\n",
       "    </tr>\n",
       "    <tr>\n",
       "      <th>140670</th>\n",
       "      <td>CASIPWGQGGILEAFF</td>\n",
       "      <td>1</td>\n",
       "    </tr>\n",
       "    <tr>\n",
       "      <th>140671</th>\n",
       "      <td>CASKSALAGAGSGELFF</td>\n",
       "      <td>1</td>\n",
       "    </tr>\n",
       "    <tr>\n",
       "      <th>140672</th>\n",
       "      <td>CASKSDRNTEAFF</td>\n",
       "      <td>1</td>\n",
       "    </tr>\n",
       "    <tr>\n",
       "      <th>140673</th>\n",
       "      <td>CASKSGGSTEAFF</td>\n",
       "      <td>1</td>\n",
       "    </tr>\n",
       "    <tr>\n",
       "      <th>140674</th>\n",
       "      <td>CASIPTSGFYNEQFF</td>\n",
       "      <td>1</td>\n",
       "    </tr>\n",
       "  </tbody>\n",
       "</table>\n",
       "<p>140675 rows × 2 columns</p>\n",
       "</div>"
      ],
      "text/plain": [
       "                        name  count\n",
       "0                  SHAGLGVEQ     35\n",
       "1       CASTGSYGYTFGSGTRLTVT     33\n",
       "2              CASSVLNTGELFF     25\n",
       "3              CASRGQNTGELFF     25\n",
       "4               CASSLGGYEQYF     18\n",
       "...                      ...    ...\n",
       "140670      CASIPWGQGGILEAFF      1\n",
       "140671     CASKSALAGAGSGELFF      1\n",
       "140672         CASKSDRNTEAFF      1\n",
       "140673         CASKSGGSTEAFF      1\n",
       "140674       CASIPTSGFYNEQFF      1\n",
       "\n",
       "[140675 rows x 2 columns]"
      ]
     },
     "execution_count": 10,
     "metadata": {},
     "output_type": "execute_result"
    }
   ],
   "source": [
    "tcr_count"
   ]
  },
  {
   "cell_type": "code",
   "execution_count": 7,
   "metadata": {},
   "outputs": [],
   "source": [
    "epi_count = count_entriesByKey(positive, 'Epitopes')"
   ]
  },
  {
   "cell_type": "code",
   "execution_count": 21,
   "metadata": {},
   "outputs": [
    {
     "data": {
      "image/png": "[encoded data removed]",
      "text/plain": [
       "<Figure size 1000x300 with 1 Axes>"
      ]
     },
     "metadata": {},
     "output_type": "display_data"
    }
   ],
   "source": [
    "import pandas as pd\n",
    "import matplotlib.pyplot as plt\n",
    "\n",
    "# Assuming your DataFrame is named df and you have loaded it\n",
    "# df = pd.read_csv('path_to_your_data.csv')  # Uncomment if reading from a file\n",
    "\n",
    "# Sort the DataFrame by 'count' in descending order\n",
    "df_sorted = epi_count.sort_values(by='count', ascending=False)\n",
    "\n",
    "# Plot the sorted counts\n",
    "plt.figure(figsize=(10, 3))\n",
    "plt.bar(df_sorted['name'], df_sorted['count'])  # Plot only the top 20 for readability\n",
    "plt.title('Count of TCRs per epitope ')\n",
    "# plt.xlabel('Name')\n",
    "plt.ylabel('Count')\n",
    "plt.xticks([])  # Hide x-axis labels\n",
    "# plt.xticks(rotation=90)  # Rotate the x-axis labels for better readability\n",
    "plt.yscale('log')  # Use a logarithmic scale if needed\n",
    "# plt.grid(True, which='both', linestyle='--', linewidth=0.5)\n",
    "plt.tight_layout()  # Adjust layout to prevent label cutoff\n",
    "plt.show()"
   ]
  },
  {
   "cell_type": "code",
   "execution_count": 14,
   "metadata": {},
   "outputs": [
    {
     "ename": "ValueError",
     "evalue": "`bins` must increase monotonically, when an array",
     "output_type": "error",
     "traceback": [
      "\u001b[0;31m---------------------------------------------------------------------------\u001b[0m",
      "\u001b[0;31mValueError\u001b[0m                                Traceback (most recent call last)",
      "Cell \u001b[0;32mIn[14], line 13\u001b[0m\n\u001b[1;32m     11\u001b[0m \u001b[38;5;66;03m# Plot the distribution of the sorted 'count' column\u001b[39;00m\n\u001b[1;32m     12\u001b[0m plt\u001b[38;5;241m.\u001b[39mfigure(figsize\u001b[38;5;241m=\u001b[39m(\u001b[38;5;241m10\u001b[39m, \u001b[38;5;241m6\u001b[39m))\n\u001b[0;32m---> 13\u001b[0m \u001b[43mplt\u001b[49m\u001b[38;5;241;43m.\u001b[39;49m\u001b[43mhist\u001b[49m\u001b[43m(\u001b[49m\u001b[38;5;28;43mrange\u001b[39;49m\u001b[43m(\u001b[49m\u001b[38;5;241;43m0\u001b[39;49m\u001b[43m,\u001b[49m\u001b[43m \u001b[49m\u001b[38;5;241;43m932\u001b[39;49m\u001b[43m)\u001b[49m\u001b[43m,\u001b[49m\u001b[43m \u001b[49m\u001b[43mdf_sorted\u001b[49m\u001b[43m[\u001b[49m\u001b[38;5;124;43m'\u001b[39;49m\u001b[38;5;124;43mcount\u001b[39;49m\u001b[38;5;124;43m'\u001b[39;49m\u001b[43m]\u001b[49m\u001b[38;5;241;43m.\u001b[39;49m\u001b[43mvalues\u001b[49m\u001b[43m)\u001b[49m  \u001b[38;5;66;03m# kde=True adds a smooth curve\u001b[39;00m\n\u001b[1;32m     14\u001b[0m plt\u001b[38;5;241m.\u001b[39mtitle(\u001b[38;5;124m'\u001b[39m\u001b[38;5;124mDistribution of Counts (Sorted)\u001b[39m\u001b[38;5;124m'\u001b[39m)\n\u001b[1;32m     15\u001b[0m plt\u001b[38;5;241m.\u001b[39mxlabel(\u001b[38;5;124m'\u001b[39m\u001b[38;5;124mCount\u001b[39m\u001b[38;5;124m'\u001b[39m)\n",
      "File \u001b[0;32m~/workspace/.conda/envs/bap_attack/lib/python3.10/site-packages/matplotlib/pyplot.py:3440\u001b[0m, in \u001b[0;36mhist\u001b[0;34m(x, bins, range, density, weights, cumulative, bottom, histtype, align, orientation, rwidth, log, color, label, stacked, data, **kwargs)\u001b[0m\n\u001b[1;32m   3415\u001b[0m \u001b[38;5;129m@_copy_docstring_and_deprecators\u001b[39m(Axes\u001b[38;5;241m.\u001b[39mhist)\n\u001b[1;32m   3416\u001b[0m \u001b[38;5;28;01mdef\u001b[39;00m \u001b[38;5;21mhist\u001b[39m(\n\u001b[1;32m   3417\u001b[0m     x: ArrayLike \u001b[38;5;241m|\u001b[39m Sequence[ArrayLike],\n\u001b[0;32m   (...)\u001b[0m\n\u001b[1;32m   3438\u001b[0m     BarContainer \u001b[38;5;241m|\u001b[39m Polygon \u001b[38;5;241m|\u001b[39m \u001b[38;5;28mlist\u001b[39m[BarContainer \u001b[38;5;241m|\u001b[39m Polygon],\n\u001b[1;32m   3439\u001b[0m ]:\n\u001b[0;32m-> 3440\u001b[0m     \u001b[38;5;28;01mreturn\u001b[39;00m \u001b[43mgca\u001b[49m\u001b[43m(\u001b[49m\u001b[43m)\u001b[49m\u001b[38;5;241;43m.\u001b[39;49m\u001b[43mhist\u001b[49m\u001b[43m(\u001b[49m\n\u001b[1;32m   3441\u001b[0m \u001b[43m        \u001b[49m\u001b[43mx\u001b[49m\u001b[43m,\u001b[49m\n\u001b[1;32m   3442\u001b[0m \u001b[43m        \u001b[49m\u001b[43mbins\u001b[49m\u001b[38;5;241;43m=\u001b[39;49m\u001b[43mbins\u001b[49m\u001b[43m,\u001b[49m\n\u001b[1;32m   3443\u001b[0m \u001b[43m        \u001b[49m\u001b[38;5;28;43mrange\u001b[39;49m\u001b[38;5;241;43m=\u001b[39;49m\u001b[38;5;28;43mrange\u001b[39;49m\u001b[43m,\u001b[49m\n\u001b[1;32m   3444\u001b[0m \u001b[43m        \u001b[49m\u001b[43mdensity\u001b[49m\u001b[38;5;241;43m=\u001b[39;49m\u001b[43mdensity\u001b[49m\u001b[43m,\u001b[49m\n\u001b[1;32m   3445\u001b[0m \u001b[43m        \u001b[49m\u001b[43mweights\u001b[49m\u001b[38;5;241;43m=\u001b[39;49m\u001b[43mweights\u001b[49m\u001b[43m,\u001b[49m\n\u001b[1;32m   3446\u001b[0m \u001b[43m        \u001b[49m\u001b[43mcumulative\u001b[49m\u001b[38;5;241;43m=\u001b[39;49m\u001b[43mcumulative\u001b[49m\u001b[43m,\u001b[49m\n\u001b[1;32m   3447\u001b[0m \u001b[43m        \u001b[49m\u001b[43mbottom\u001b[49m\u001b[38;5;241;43m=\u001b[39;49m\u001b[43mbottom\u001b[49m\u001b[43m,\u001b[49m\n\u001b[1;32m   3448\u001b[0m \u001b[43m        \u001b[49m\u001b[43mhisttype\u001b[49m\u001b[38;5;241;43m=\u001b[39;49m\u001b[43mhisttype\u001b[49m\u001b[43m,\u001b[49m\n\u001b[1;32m   3449\u001b[0m \u001b[43m        \u001b[49m\u001b[43malign\u001b[49m\u001b[38;5;241;43m=\u001b[39;49m\u001b[43malign\u001b[49m\u001b[43m,\u001b[49m\n\u001b[1;32m   3450\u001b[0m \u001b[43m        \u001b[49m\u001b[43morientation\u001b[49m\u001b[38;5;241;43m=\u001b[39;49m\u001b[43morientation\u001b[49m\u001b[43m,\u001b[49m\n\u001b[1;32m   3451\u001b[0m \u001b[43m        \u001b[49m\u001b[43mrwidth\u001b[49m\u001b[38;5;241;43m=\u001b[39;49m\u001b[43mrwidth\u001b[49m\u001b[43m,\u001b[49m\n\u001b[1;32m   3452\u001b[0m \u001b[43m        \u001b[49m\u001b[43mlog\u001b[49m\u001b[38;5;241;43m=\u001b[39;49m\u001b[43mlog\u001b[49m\u001b[43m,\u001b[49m\n\u001b[1;32m   3453\u001b[0m \u001b[43m        \u001b[49m\u001b[43mcolor\u001b[49m\u001b[38;5;241;43m=\u001b[39;49m\u001b[43mcolor\u001b[49m\u001b[43m,\u001b[49m\n\u001b[1;32m   3454\u001b[0m \u001b[43m        \u001b[49m\u001b[43mlabel\u001b[49m\u001b[38;5;241;43m=\u001b[39;49m\u001b[43mlabel\u001b[49m\u001b[43m,\u001b[49m\n\u001b[1;32m   3455\u001b[0m \u001b[43m        \u001b[49m\u001b[43mstacked\u001b[49m\u001b[38;5;241;43m=\u001b[39;49m\u001b[43mstacked\u001b[49m\u001b[43m,\u001b[49m\n\u001b[1;32m   3456\u001b[0m \u001b[43m        \u001b[49m\u001b[38;5;241;43m*\u001b[39;49m\u001b[38;5;241;43m*\u001b[39;49m\u001b[43m(\u001b[49m\u001b[43m{\u001b[49m\u001b[38;5;124;43m\"\u001b[39;49m\u001b[38;5;124;43mdata\u001b[39;49m\u001b[38;5;124;43m\"\u001b[39;49m\u001b[43m:\u001b[49m\u001b[43m \u001b[49m\u001b[43mdata\u001b[49m\u001b[43m}\u001b[49m\u001b[43m \u001b[49m\u001b[38;5;28;43;01mif\u001b[39;49;00m\u001b[43m \u001b[49m\u001b[43mdata\u001b[49m\u001b[43m \u001b[49m\u001b[38;5;129;43;01mis\u001b[39;49;00m\u001b[43m \u001b[49m\u001b[38;5;129;43;01mnot\u001b[39;49;00m\u001b[43m \u001b[49m\u001b[38;5;28;43;01mNone\u001b[39;49;00m\u001b[43m \u001b[49m\u001b[38;5;28;43;01melse\u001b[39;49;00m\u001b[43m \u001b[49m\u001b[43m{\u001b[49m\u001b[43m}\u001b[49m\u001b[43m)\u001b[49m\u001b[43m,\u001b[49m\n\u001b[1;32m   3457\u001b[0m \u001b[43m        \u001b[49m\u001b[38;5;241;43m*\u001b[39;49m\u001b[38;5;241;43m*\u001b[39;49m\u001b[43mkwargs\u001b[49m\u001b[43m,\u001b[49m\n\u001b[1;32m   3458\u001b[0m \u001b[43m    \u001b[49m\u001b[43m)\u001b[49m\n",
      "File \u001b[0;32m~/workspace/.conda/envs/bap_attack/lib/python3.10/site-packages/matplotlib/__init__.py:1473\u001b[0m, in \u001b[0;36m_preprocess_data.<locals>.inner\u001b[0;34m(ax, data, *args, **kwargs)\u001b[0m\n\u001b[1;32m   1470\u001b[0m \u001b[38;5;129m@functools\u001b[39m\u001b[38;5;241m.\u001b[39mwraps(func)\n\u001b[1;32m   1471\u001b[0m \u001b[38;5;28;01mdef\u001b[39;00m \u001b[38;5;21minner\u001b[39m(ax, \u001b[38;5;241m*\u001b[39margs, data\u001b[38;5;241m=\u001b[39m\u001b[38;5;28;01mNone\u001b[39;00m, \u001b[38;5;241m*\u001b[39m\u001b[38;5;241m*\u001b[39mkwargs):\n\u001b[1;32m   1472\u001b[0m     \u001b[38;5;28;01mif\u001b[39;00m data \u001b[38;5;129;01mis\u001b[39;00m \u001b[38;5;28;01mNone\u001b[39;00m:\n\u001b[0;32m-> 1473\u001b[0m         \u001b[38;5;28;01mreturn\u001b[39;00m \u001b[43mfunc\u001b[49m\u001b[43m(\u001b[49m\n\u001b[1;32m   1474\u001b[0m \u001b[43m            \u001b[49m\u001b[43max\u001b[49m\u001b[43m,\u001b[49m\n\u001b[1;32m   1475\u001b[0m \u001b[43m            \u001b[49m\u001b[38;5;241;43m*\u001b[39;49m\u001b[38;5;28;43mmap\u001b[39;49m\u001b[43m(\u001b[49m\u001b[43msanitize_sequence\u001b[49m\u001b[43m,\u001b[49m\u001b[43m \u001b[49m\u001b[43margs\u001b[49m\u001b[43m)\u001b[49m\u001b[43m,\u001b[49m\n\u001b[1;32m   1476\u001b[0m \u001b[43m            \u001b[49m\u001b[38;5;241;43m*\u001b[39;49m\u001b[38;5;241;43m*\u001b[39;49m\u001b[43m{\u001b[49m\u001b[43mk\u001b[49m\u001b[43m:\u001b[49m\u001b[43m \u001b[49m\u001b[43msanitize_sequence\u001b[49m\u001b[43m(\u001b[49m\u001b[43mv\u001b[49m\u001b[43m)\u001b[49m\u001b[43m \u001b[49m\u001b[38;5;28;43;01mfor\u001b[39;49;00m\u001b[43m \u001b[49m\u001b[43mk\u001b[49m\u001b[43m,\u001b[49m\u001b[43m \u001b[49m\u001b[43mv\u001b[49m\u001b[43m \u001b[49m\u001b[38;5;129;43;01min\u001b[39;49;00m\u001b[43m \u001b[49m\u001b[43mkwargs\u001b[49m\u001b[38;5;241;43m.\u001b[39;49m\u001b[43mitems\u001b[49m\u001b[43m(\u001b[49m\u001b[43m)\u001b[49m\u001b[43m}\u001b[49m\u001b[43m)\u001b[49m\n\u001b[1;32m   1478\u001b[0m     bound \u001b[38;5;241m=\u001b[39m new_sig\u001b[38;5;241m.\u001b[39mbind(ax, \u001b[38;5;241m*\u001b[39margs, \u001b[38;5;241m*\u001b[39m\u001b[38;5;241m*\u001b[39mkwargs)\n\u001b[1;32m   1479\u001b[0m     auto_label \u001b[38;5;241m=\u001b[39m (bound\u001b[38;5;241m.\u001b[39marguments\u001b[38;5;241m.\u001b[39mget(label_namer)\n\u001b[1;32m   1480\u001b[0m                   \u001b[38;5;129;01mor\u001b[39;00m bound\u001b[38;5;241m.\u001b[39mkwargs\u001b[38;5;241m.\u001b[39mget(label_namer))\n",
      "File \u001b[0;32m~/workspace/.conda/envs/bap_attack/lib/python3.10/site-packages/matplotlib/axes/_axes.py:7001\u001b[0m, in \u001b[0;36mAxes.hist\u001b[0;34m(self, x, bins, range, density, weights, cumulative, bottom, histtype, align, orientation, rwidth, log, color, label, stacked, **kwargs)\u001b[0m\n\u001b[1;32m   6997\u001b[0m \u001b[38;5;66;03m# Loop through datasets\u001b[39;00m\n\u001b[1;32m   6998\u001b[0m \u001b[38;5;28;01mfor\u001b[39;00m i \u001b[38;5;129;01min\u001b[39;00m \u001b[38;5;28mrange\u001b[39m(nx):\n\u001b[1;32m   6999\u001b[0m     \u001b[38;5;66;03m# this will automatically overwrite bins,\u001b[39;00m\n\u001b[1;32m   7000\u001b[0m     \u001b[38;5;66;03m# so that each histogram uses the same bins\u001b[39;00m\n\u001b[0;32m-> 7001\u001b[0m     m, bins \u001b[38;5;241m=\u001b[39m \u001b[43mnp\u001b[49m\u001b[38;5;241;43m.\u001b[39;49m\u001b[43mhistogram\u001b[49m\u001b[43m(\u001b[49m\u001b[43mx\u001b[49m\u001b[43m[\u001b[49m\u001b[43mi\u001b[49m\u001b[43m]\u001b[49m\u001b[43m,\u001b[49m\u001b[43m \u001b[49m\u001b[43mbins\u001b[49m\u001b[43m,\u001b[49m\u001b[43m \u001b[49m\u001b[43mweights\u001b[49m\u001b[38;5;241;43m=\u001b[39;49m\u001b[43mw\u001b[49m\u001b[43m[\u001b[49m\u001b[43mi\u001b[49m\u001b[43m]\u001b[49m\u001b[43m,\u001b[49m\u001b[43m \u001b[49m\u001b[38;5;241;43m*\u001b[39;49m\u001b[38;5;241;43m*\u001b[39;49m\u001b[43mhist_kwargs\u001b[49m\u001b[43m)\u001b[49m\n\u001b[1;32m   7002\u001b[0m     tops\u001b[38;5;241m.\u001b[39mappend(m)\n\u001b[1;32m   7003\u001b[0m tops \u001b[38;5;241m=\u001b[39m np\u001b[38;5;241m.\u001b[39marray(tops, \u001b[38;5;28mfloat\u001b[39m)  \u001b[38;5;66;03m# causes problems later if it's an int\u001b[39;00m\n",
      "File \u001b[0;32m~/workspace/.conda/envs/bap_attack/lib/python3.10/site-packages/numpy/lib/histograms.py:780\u001b[0m, in \u001b[0;36mhistogram\u001b[0;34m(a, bins, range, density, weights)\u001b[0m\n\u001b[1;32m    680\u001b[0m \u001b[38;5;250m\u001b[39m\u001b[38;5;124mr\u001b[39m\u001b[38;5;124;03m\"\"\"\u001b[39;00m\n\u001b[1;32m    681\u001b[0m \u001b[38;5;124;03mCompute the histogram of a dataset.\u001b[39;00m\n\u001b[1;32m    682\u001b[0m \n\u001b[0;32m   (...)\u001b[0m\n\u001b[1;32m    776\u001b[0m \n\u001b[1;32m    777\u001b[0m \u001b[38;5;124;03m\"\"\"\u001b[39;00m\n\u001b[1;32m    778\u001b[0m a, weights \u001b[38;5;241m=\u001b[39m _ravel_and_check_weights(a, weights)\n\u001b[0;32m--> 780\u001b[0m bin_edges, uniform_bins \u001b[38;5;241m=\u001b[39m \u001b[43m_get_bin_edges\u001b[49m\u001b[43m(\u001b[49m\u001b[43ma\u001b[49m\u001b[43m,\u001b[49m\u001b[43m \u001b[49m\u001b[43mbins\u001b[49m\u001b[43m,\u001b[49m\u001b[43m \u001b[49m\u001b[38;5;28;43mrange\u001b[39;49m\u001b[43m,\u001b[49m\u001b[43m \u001b[49m\u001b[43mweights\u001b[49m\u001b[43m)\u001b[49m\n\u001b[1;32m    782\u001b[0m \u001b[38;5;66;03m# Histogram is an integer or a float array depending on the weights.\u001b[39;00m\n\u001b[1;32m    783\u001b[0m \u001b[38;5;28;01mif\u001b[39;00m weights \u001b[38;5;129;01mis\u001b[39;00m \u001b[38;5;28;01mNone\u001b[39;00m:\n",
      "File \u001b[0;32m~/workspace/.conda/envs/bap_attack/lib/python3.10/site-packages/numpy/lib/histograms.py:431\u001b[0m, in \u001b[0;36m_get_bin_edges\u001b[0;34m(a, bins, range, weights)\u001b[0m\n\u001b[1;32m    429\u001b[0m     bin_edges \u001b[38;5;241m=\u001b[39m np\u001b[38;5;241m.\u001b[39masarray(bins)\n\u001b[1;32m    430\u001b[0m     \u001b[38;5;28;01mif\u001b[39;00m np\u001b[38;5;241m.\u001b[39many(bin_edges[:\u001b[38;5;241m-\u001b[39m\u001b[38;5;241m1\u001b[39m] \u001b[38;5;241m>\u001b[39m bin_edges[\u001b[38;5;241m1\u001b[39m:]):\n\u001b[0;32m--> 431\u001b[0m         \u001b[38;5;28;01mraise\u001b[39;00m \u001b[38;5;167;01mValueError\u001b[39;00m(\n\u001b[1;32m    432\u001b[0m             \u001b[38;5;124m'\u001b[39m\u001b[38;5;124m`bins` must increase monotonically, when an array\u001b[39m\u001b[38;5;124m'\u001b[39m)\n\u001b[1;32m    434\u001b[0m \u001b[38;5;28;01melse\u001b[39;00m:\n\u001b[1;32m    435\u001b[0m     \u001b[38;5;28;01mraise\u001b[39;00m \u001b[38;5;167;01mValueError\u001b[39;00m(\u001b[38;5;124m'\u001b[39m\u001b[38;5;124m`bins` must be 1d, when an array\u001b[39m\u001b[38;5;124m'\u001b[39m)\n",
      "\u001b[0;31mValueError\u001b[0m: `bins` must increase monotonically, when an array"
     ]
    },
    {
     "data": {
      "image/png": "[encoded data removed]",
      "text/plain": [
       "<Figure size 1000x600 with 1 Axes>"
      ]
     },
     "metadata": {},
     "output_type": "display_data"
    }
   ],
   "source": [
    "import pandas as pd\n",
    "import matplotlib.pyplot as plt\n",
    "import seaborn as sns\n",
    "\n",
    "# Assuming your DataFrame is named df and you have loaded it\n",
    "# df = pd.read_csv('path_to_your_data.csv')  # Uncomment if reading from a file\n",
    "\n",
    "# Sort the DataFrame by 'count' in descending order\n",
    "df_sorted = epi_count.sort_values(by='count', ascending=False)\n",
    "\n",
    "# Plot the distribution of the sorted 'count' column\n",
    "plt.figure(figsize=(10, 6))\n",
    "plt.hist(range(0, 932), df_sorted['count'].values)  # kde=True adds a smooth curve\n",
    "plt.title('Distribution of Counts (Sorted)')\n",
    "plt.xlabel('Count')\n",
    "plt.ylabel('Frequency')\n",
    "plt.yscale('log')  # Use a logarithmic scale for better visibility\n",
    "plt.grid(True)\n",
    "plt.show()"
   ]
  },
  {
   "cell_type": "code",
   "execution_count": 13,
   "metadata": {},
   "outputs": [
    {
     "data": {
      "text/plain": [
       "array([12940, 11573,  8511,  7318,  5793,  5401,  5325,  3848,  3424,\n",
       "        2932,  2710,  2568,  2528,  2460,  2358,  2142,  1875,  1794,\n",
       "        1786,  1751,  1712,  1657,  1379,  1319,  1297,  1281,  1063,\n",
       "        1038,   995,   985,   980,   968,   925,   900,   892,   876,\n",
       "         867,   841,   807,   782,   779,   731,   681,   674,   638,\n",
       "         613,   609,   590,   569,   548,   537,   528,   493,   485,\n",
       "         484,   476,   470,   451,   444,   437,   435,   432,   418,\n",
       "         417,   398,   365,   362,   356,   353,   346,   338,   312,\n",
       "         311,   301,   287,   286,   285,   273,   271,   267,   267,\n",
       "         266,   261,   252,   248,   248,   244,   244,   243,   236,\n",
       "         232,   223,   222,   219,   216,   207,   203,   199,   199,\n",
       "         198,   196,   193,   188,   185,   183,   180,   176,   169,\n",
       "         169,   164,   164,   161,   157,   152,   151,   149,   148,\n",
       "         147,   145,   139,   139,   138,   136,   135,   134,   132,\n",
       "         130,   130,   130,   128,   123,   123,   118,   117,   110,\n",
       "         110,   109,   108,   107,   107,   106,   103,   103,   103,\n",
       "         102,   101,    99,    98,    97,    93,    92,    91,    90,\n",
       "          90,    89,    88,    87,    87,    85,    84,    84,    83,\n",
       "          82,    77,    76,    76,    75,    75,    75,    75,    74,\n",
       "          74,    74,    74,    73,    73,    69,    68,    67,    67,\n",
       "          65,    65,    65,    64,    64,    64,    64,    63,    63,\n",
       "          62,    62,    61,    60,    57,    57,    57,    56,    56,\n",
       "          55,    54,    54,    54,    54,    53,    53,    53,    53,\n",
       "          52,    51,    50,    50,    48,    47,    47,    46,    46,\n",
       "          46,    45,    45,    45,    45,    44,    44,    44,    44,\n",
       "          44,    43,    42,    42,    42,    42,    41,    41,    41,\n",
       "          40,    40,    40,    40,    39,    39,    39,    39,    38,\n",
       "          38,    38,    37,    35,    35,    35,    34,    34,    33,\n",
       "          33,    33,    32,    32,    32,    32,    31,    31,    30,\n",
       "          30,    30,    29,    29,    29,    29,    28,    28,    28,\n",
       "          28,    27,    27,    27,    27,    26,    26,    25,    25,\n",
       "          25,    25,    24,    24,    24,    24,    23,    23,    23,\n",
       "          23,    23,    23,    23,    23,    23,    23,    22,    22,\n",
       "          21,    21,    21,    20,    20,    20,    20,    19,    19,\n",
       "          19,    19,    19,    19,    19,    18,    18,    18,    18,\n",
       "          17,    17,    17,    17,    17,    17,    17,    16,    16,\n",
       "          16,    16,    16,    15,    15,    15,    15,    15,    15,\n",
       "          15,    14,    14,    14,    14,    14,    14,    13,    13,\n",
       "          13,    13,    13,    13,    13,    13,    13,    13,    13,\n",
       "          12,    12,    12,    12,    12,    12,    12,    12,    11,\n",
       "          11,    11,    11,    11,    11,    11,    11,    11,    10,\n",
       "          10,    10,    10,    10,    10,    10,    10,    10,    10,\n",
       "          10,    10,    10,    10,    10,     9,     9,     9,     9,\n",
       "           9,     9,     9,     9,     9,     9,     9,     9,     9,\n",
       "           9,     8,     8,     8,     8,     8,     8,     8,     8,\n",
       "           8,     8,     8,     8,     8,     8,     8,     8,     8,\n",
       "           8,     8,     8,     8,     8,     7,     7,     7,     7,\n",
       "           7,     7,     7,     7,     7,     7,     7,     7,     7,\n",
       "           7,     7,     7,     6,     6,     6,     6,     6,     6,\n",
       "           6,     6,     6,     6,     6,     6,     6,     6,     6,\n",
       "           6,     6,     6,     6,     6,     6,     6,     6,     6,\n",
       "           6,     6,     6,     6,     6,     5,     5,     5,     5,\n",
       "           5,     5,     5,     5,     5,     5,     5,     5,     5,\n",
       "           5,     5,     5,     5,     5,     5,     5,     5,     5,\n",
       "           5,     5,     5,     5,     5,     5,     5,     5,     5,\n",
       "           5,     5,     5,     5,     5,     5,     5,     5,     4,\n",
       "           4,     4,     4,     4,     4,     4,     4,     4,     4,\n",
       "           4,     4,     4,     4,     4,     4,     4,     4,     4,\n",
       "           4,     4,     4,     4,     4,     4,     4,     4,     4,\n",
       "           4,     4,     4,     4,     4,     4,     4,     4,     4,\n",
       "           4,     4,     4,     4,     4,     4,     4,     4,     4,\n",
       "           4,     4,     4,     4,     4,     4,     4,     3,     3,\n",
       "           3,     3,     3,     3,     3,     3,     3,     3,     3,\n",
       "           3,     3,     3,     3,     3,     3,     3,     3,     3,\n",
       "           3,     3,     3,     3,     3,     3,     3,     3,     3,\n",
       "           3,     3,     3,     3,     3,     3,     3,     3,     3,\n",
       "           3,     3,     3,     3,     3,     3,     3,     3,     3,\n",
       "           3,     3,     3,     3,     3,     3,     3,     3,     3,\n",
       "           3,     3,     3,     3,     3,     3,     3,     3,     3,\n",
       "           3,     2,     2,     2,     2,     2,     2,     2,     2,\n",
       "           2,     2,     2,     2,     2,     2,     2,     2,     2,\n",
       "           2,     2,     2,     2,     2,     2,     2,     2,     2,\n",
       "           2,     2,     2,     2,     2,     2,     2,     2,     2,\n",
       "           2,     2,     2,     2,     2,     2,     2,     2,     2,\n",
       "           2,     2,     2,     2,     2,     2,     2,     2,     2,\n",
       "           2,     2,     2,     2,     2,     2,     2,     2,     2,\n",
       "           2,     2,     2,     2,     2,     2,     2,     2,     2,\n",
       "           2,     2,     2,     2,     2,     2,     2,     2,     2,\n",
       "           2,     2,     2,     2,     2,     2,     2,     2,     2,\n",
       "           2,     2,     2,     2,     2,     2,     2,     2,     2,\n",
       "           2,     2,     2,     2,     2,     2,     2,     2,     2,\n",
       "           2,     2,     2,     2,     2,     1,     1,     1,     1,\n",
       "           1,     1,     1,     1,     1,     1,     1,     1,     1,\n",
       "           1,     1,     1,     1,     1,     1,     1,     1,     1,\n",
       "           1,     1,     1,     1,     1,     1,     1,     1,     1,\n",
       "           1,     1,     1,     1,     1,     1,     1,     1,     1,\n",
       "           1,     1,     1,     1,     1,     1,     1,     1,     1,\n",
       "           1,     1,     1,     1,     1,     1,     1,     1,     1,\n",
       "           1,     1,     1,     1,     1,     1,     1,     1,     1,\n",
       "           1,     1,     1,     1,     1,     1,     1,     1,     1,\n",
       "           1,     1,     1,     1,     1,     1,     1,     1,     1,\n",
       "           1,     1,     1,     1,     1,     1,     1,     1,     1,\n",
       "           1,     1,     1,     1,     1,     1,     1,     1,     1,\n",
       "           1,     1,     1,     1,     1,     1,     1,     1,     1,\n",
       "           1,     1,     1,     1,     1,     1,     1,     1,     1,\n",
       "           1,     1,     1,     1,     1,     1,     1,     1,     1,\n",
       "           1,     1,     1,     1,     1,     1,     1,     1,     1,\n",
       "           1,     1,     1,     1,     1,     1,     1,     1,     1,\n",
       "           1,     1,     1,     1,     1,     1,     1,     1,     1,\n",
       "           1,     1,     1,     1,     1,     1,     1,     1,     1,\n",
       "           1,     1,     1,     1,     1,     1,     1,     1,     1,\n",
       "           1,     1,     1,     1,     1,     1,     1,     1,     1,\n",
       "           1,     1,     1,     1,     1,     1,     1,     1,     1,\n",
       "           1,     1,     1,     1,     1,     1,     1,     1,     1,\n",
       "           1,     1,     1,     1,     1,     1,     1,     1,     1,\n",
       "           1,     1,     1,     1,     1,     1,     1,     1,     1,\n",
       "           1,     1,     1,     1,     1,     1,     1,     1,     1,\n",
       "           1,     1,     1,     1,     1,     1,     1,     1,     1,\n",
       "           1,     1,     1,     1,     1,     1,     1,     1,     1,\n",
       "           1])"
      ]
     },
     "execution_count": 13,
     "metadata": {},
     "output_type": "execute_result"
    }
   ],
   "source": [
    "df_sorted['count'].values"
   ]
  },
  {
   "cell_type": "code",
   "execution_count": 5,
   "metadata": {},
   "outputs": [
    {
     "data": {
      "text/html": [
       "<div>\n",
       "<style scoped>\n",
       "    .dataframe tbody tr th:only-of-type {\n",
       "        vertical-align: middle;\n",
       "    }\n",
       "\n",
       "    .dataframe tbody tr th {\n",
       "        vertical-align: top;\n",
       "    }\n",
       "\n",
       "    .dataframe thead th {\n",
       "        text-align: right;\n",
       "    }\n",
       "</style>\n",
       "<table border=\"1\" class=\"dataframe\">\n",
       "  <thead>\n",
       "    <tr style=\"text-align: right;\">\n",
       "      <th></th>\n",
       "      <th>name</th>\n",
       "      <th>count</th>\n",
       "    </tr>\n",
       "  </thead>\n",
       "  <tbody>\n",
       "    <tr>\n",
       "      <th>0</th>\n",
       "      <td>SHAGLGVEQ</td>\n",
       "      <td>35</td>\n",
       "    </tr>\n",
       "    <tr>\n",
       "      <th>1</th>\n",
       "      <td>CASTGSYGYTFGSGTRLTVT</td>\n",
       "      <td>33</td>\n",
       "    </tr>\n",
       "    <tr>\n",
       "      <th>2</th>\n",
       "      <td>CASSVLNTGELFF</td>\n",
       "      <td>25</td>\n",
       "    </tr>\n",
       "    <tr>\n",
       "      <th>3</th>\n",
       "      <td>CASRGQNTGELFF</td>\n",
       "      <td>25</td>\n",
       "    </tr>\n",
       "    <tr>\n",
       "      <th>4</th>\n",
       "      <td>CASSLGGYEQYF</td>\n",
       "      <td>18</td>\n",
       "    </tr>\n",
       "    <tr>\n",
       "      <th>...</th>\n",
       "      <td>...</td>\n",
       "      <td>...</td>\n",
       "    </tr>\n",
       "    <tr>\n",
       "      <th>140670</th>\n",
       "      <td>CASIPWGQGGILEAFF</td>\n",
       "      <td>1</td>\n",
       "    </tr>\n",
       "    <tr>\n",
       "      <th>140671</th>\n",
       "      <td>CASKSALAGAGSGELFF</td>\n",
       "      <td>1</td>\n",
       "    </tr>\n",
       "    <tr>\n",
       "      <th>140672</th>\n",
       "      <td>CASKSDRNTEAFF</td>\n",
       "      <td>1</td>\n",
       "    </tr>\n",
       "    <tr>\n",
       "      <th>140673</th>\n",
       "      <td>CASKSGGSTEAFF</td>\n",
       "      <td>1</td>\n",
       "    </tr>\n",
       "    <tr>\n",
       "      <th>140674</th>\n",
       "      <td>CASIPTSGFYNEQFF</td>\n",
       "      <td>1</td>\n",
       "    </tr>\n",
       "  </tbody>\n",
       "</table>\n",
       "<p>140675 rows × 2 columns</p>\n",
       "</div>"
      ],
      "text/plain": [
       "                        name  count\n",
       "0                  SHAGLGVEQ     35\n",
       "1       CASTGSYGYTFGSGTRLTVT     33\n",
       "2              CASSVLNTGELFF     25\n",
       "3              CASRGQNTGELFF     25\n",
       "4               CASSLGGYEQYF     18\n",
       "...                      ...    ...\n",
       "140670      CASIPWGQGGILEAFF      1\n",
       "140671     CASKSALAGAGSGELFF      1\n",
       "140672         CASKSDRNTEAFF      1\n",
       "140673         CASKSGGSTEAFF      1\n",
       "140674       CASIPTSGFYNEQFF      1\n",
       "\n",
       "[140675 rows x 2 columns]"
      ]
     },
     "execution_count": 5,
     "metadata": {},
     "output_type": "execute_result"
    }
   ],
   "source": [
    "tcr_count"
   ]
  },
  {
   "cell_type": "code",
   "execution_count": 55,
   "metadata": {},
   "outputs": [],
   "source": [
    "CASSLGSYEQYF = positive[positive['TCRs'] == 'CASSLGSYEQYF']"
   ]
  },
  {
   "cell_type": "code",
   "execution_count": 56,
   "metadata": {},
   "outputs": [
    {
     "data": {
      "text/html": [
       "<div>\n",
       "<style scoped>\n",
       "    .dataframe tbody tr th:only-of-type {\n",
       "        vertical-align: middle;\n",
       "    }\n",
       "\n",
       "    .dataframe tbody tr th {\n",
       "        vertical-align: top;\n",
       "    }\n",
       "\n",
       "    .dataframe thead th {\n",
       "        text-align: right;\n",
       "    }\n",
       "</style>\n",
       "<table border=\"1\" class=\"dataframe\">\n",
       "  <thead>\n",
       "    <tr style=\"text-align: right;\">\n",
       "      <th></th>\n",
       "      <th>Epitopes</th>\n",
       "      <th>TCRs</th>\n",
       "      <th>binding</th>\n",
       "    </tr>\n",
       "  </thead>\n",
       "  <tbody>\n",
       "    <tr>\n",
       "      <th>3675</th>\n",
       "      <td>GTSGSPIVNR</td>\n",
       "      <td>CASSLGSYEQYF</td>\n",
       "      <td>1</td>\n",
       "    </tr>\n",
       "    <tr>\n",
       "      <th>26229</th>\n",
       "      <td>KTAYSHLSTSK</td>\n",
       "      <td>CASSLGSYEQYF</td>\n",
       "      <td>1</td>\n",
       "    </tr>\n",
       "    <tr>\n",
       "      <th>35629</th>\n",
       "      <td>KLGGALQAK</td>\n",
       "      <td>CASSLGSYEQYF</td>\n",
       "      <td>1</td>\n",
       "    </tr>\n",
       "    <tr>\n",
       "      <th>78827</th>\n",
       "      <td>VQPTESIVRFPNITNLCPF</td>\n",
       "      <td>CASSLGSYEQYF</td>\n",
       "      <td>1</td>\n",
       "    </tr>\n",
       "    <tr>\n",
       "      <th>78828</th>\n",
       "      <td>IMLIIFWFSL</td>\n",
       "      <td>CASSLGSYEQYF</td>\n",
       "      <td>1</td>\n",
       "    </tr>\n",
       "    <tr>\n",
       "      <th>78829</th>\n",
       "      <td>MIELSLIDFYLCFLAFLLFLVLIML</td>\n",
       "      <td>CASSLGSYEQYF</td>\n",
       "      <td>1</td>\n",
       "    </tr>\n",
       "    <tr>\n",
       "      <th>78830</th>\n",
       "      <td>RQIAPGQTGKIADYNYKL</td>\n",
       "      <td>CASSLGSYEQYF</td>\n",
       "      <td>1</td>\n",
       "    </tr>\n",
       "    <tr>\n",
       "      <th>78831</th>\n",
       "      <td>FLNGSCGSV</td>\n",
       "      <td>CASSLGSYEQYF</td>\n",
       "      <td>1</td>\n",
       "    </tr>\n",
       "    <tr>\n",
       "      <th>78832</th>\n",
       "      <td>SELVIGAVIL</td>\n",
       "      <td>CASSLGSYEQYF</td>\n",
       "      <td>1</td>\n",
       "    </tr>\n",
       "    <tr>\n",
       "      <th>78833</th>\n",
       "      <td>MGYINVFAFPFTIYSL</td>\n",
       "      <td>CASSLGSYEQYF</td>\n",
       "      <td>1</td>\n",
       "    </tr>\n",
       "    <tr>\n",
       "      <th>78834</th>\n",
       "      <td>LITLATCELYHYQECV</td>\n",
       "      <td>CASSLGSYEQYF</td>\n",
       "      <td>1</td>\n",
       "    </tr>\n",
       "    <tr>\n",
       "      <th>78835</th>\n",
       "      <td>YVVDDPCPIHFY</td>\n",
       "      <td>CASSLGSYEQYF</td>\n",
       "      <td>1</td>\n",
       "    </tr>\n",
       "    <tr>\n",
       "      <th>139484</th>\n",
       "      <td>YVLDHLIVV</td>\n",
       "      <td>CASSLGSYEQYF</td>\n",
       "      <td>1</td>\n",
       "    </tr>\n",
       "  </tbody>\n",
       "</table>\n",
       "</div>"
      ],
      "text/plain": [
       "                         Epitopes          TCRs  binding\n",
       "3675                   GTSGSPIVNR  CASSLGSYEQYF        1\n",
       "26229                 KTAYSHLSTSK  CASSLGSYEQYF        1\n",
       "35629                   KLGGALQAK  CASSLGSYEQYF        1\n",
       "78827         VQPTESIVRFPNITNLCPF  CASSLGSYEQYF        1\n",
       "78828                  IMLIIFWFSL  CASSLGSYEQYF        1\n",
       "78829   MIELSLIDFYLCFLAFLLFLVLIML  CASSLGSYEQYF        1\n",
       "78830          RQIAPGQTGKIADYNYKL  CASSLGSYEQYF        1\n",
       "78831                   FLNGSCGSV  CASSLGSYEQYF        1\n",
       "78832                  SELVIGAVIL  CASSLGSYEQYF        1\n",
       "78833            MGYINVFAFPFTIYSL  CASSLGSYEQYF        1\n",
       "78834            LITLATCELYHYQECV  CASSLGSYEQYF        1\n",
       "78835                YVVDDPCPIHFY  CASSLGSYEQYF        1\n",
       "139484                  YVLDHLIVV  CASSLGSYEQYF        1"
      ]
     },
     "execution_count": 56,
     "metadata": {},
     "output_type": "execute_result"
    }
   ],
   "source": [
    "CASSLGSYEQYF"
   ]
  },
  {
   "cell_type": "code",
   "execution_count": 53,
   "metadata": {},
   "outputs": [],
   "source": [
    "CASSLGETQYF = positive[positive['TCRs'] == 'CASSLGETQYF']"
   ]
  },
  {
   "cell_type": "code",
   "execution_count": null,
   "metadata": {},
   "outputs": [],
   "source": []
  },
  {
   "cell_type": "markdown",
   "metadata": {},
   "source": [
    "# TEST"
   ]
  },
  {
   "cell_type": "code",
   "execution_count": 64,
   "metadata": {},
   "outputs": [],
   "source": [
    "CASSPMGLSYEQYV = positive[positive['TCRs'] == 'CASSPMGLSYEQYV']"
   ]
  },
  {
   "cell_type": "code",
   "execution_count": 65,
   "metadata": {},
   "outputs": [
    {
     "data": {
      "text/html": [
       "<div>\n",
       "<style scoped>\n",
       "    .dataframe tbody tr th:only-of-type {\n",
       "        vertical-align: middle;\n",
       "    }\n",
       "\n",
       "    .dataframe tbody tr th {\n",
       "        vertical-align: top;\n",
       "    }\n",
       "\n",
       "    .dataframe thead th {\n",
       "        text-align: right;\n",
       "    }\n",
       "</style>\n",
       "<table border=\"1\" class=\"dataframe\">\n",
       "  <thead>\n",
       "    <tr style=\"text-align: right;\">\n",
       "      <th></th>\n",
       "      <th>Epitopes</th>\n",
       "      <th>TCRs</th>\n",
       "      <th>binding</th>\n",
       "    </tr>\n",
       "  </thead>\n",
       "  <tbody>\n",
       "    <tr>\n",
       "      <th>37947</th>\n",
       "      <td>AVFDRKSDAK</td>\n",
       "      <td>CASSPMGLSYEQYV</td>\n",
       "      <td>1</td>\n",
       "    </tr>\n",
       "    <tr>\n",
       "      <th>37948</th>\n",
       "      <td>KLGGALQAK</td>\n",
       "      <td>CASSPMGLSYEQYV</td>\n",
       "      <td>1</td>\n",
       "    </tr>\n",
       "  </tbody>\n",
       "</table>\n",
       "</div>"
      ],
      "text/plain": [
       "         Epitopes            TCRs  binding\n",
       "37947  AVFDRKSDAK  CASSPMGLSYEQYV        1\n",
       "37948   KLGGALQAK  CASSPMGLSYEQYV        1"
      ]
     },
     "execution_count": 65,
     "metadata": {},
     "output_type": "execute_result"
    }
   ],
   "source": [
    "CASSPMGLSYEQYV"
   ]
  },
  {
   "cell_type": "code",
   "execution_count": 66,
   "metadata": {},
   "outputs": [],
   "source": [
    "CASSYEGNTEAFF = positive[positive['TCRs'] == 'CASSYEGNTEAFF']"
   ]
  },
  {
   "cell_type": "code",
   "execution_count": 67,
   "metadata": {},
   "outputs": [
    {
     "data": {
      "text/html": [
       "<div>\n",
       "<style scoped>\n",
       "    .dataframe tbody tr th:only-of-type {\n",
       "        vertical-align: middle;\n",
       "    }\n",
       "\n",
       "    .dataframe tbody tr th {\n",
       "        vertical-align: top;\n",
       "    }\n",
       "\n",
       "    .dataframe thead th {\n",
       "        text-align: right;\n",
       "    }\n",
       "</style>\n",
       "<table border=\"1\" class=\"dataframe\">\n",
       "  <thead>\n",
       "    <tr style=\"text-align: right;\">\n",
       "      <th></th>\n",
       "      <th>Epitopes</th>\n",
       "      <th>TCRs</th>\n",
       "      <th>binding</th>\n",
       "    </tr>\n",
       "  </thead>\n",
       "  <tbody>\n",
       "    <tr>\n",
       "      <th>26853</th>\n",
       "      <td>LVVDFSQFSR</td>\n",
       "      <td>CASSYEGNTEAFF</td>\n",
       "      <td>1</td>\n",
       "    </tr>\n",
       "    <tr>\n",
       "      <th>39478</th>\n",
       "      <td>KLGGALQAK</td>\n",
       "      <td>CASSYEGNTEAFF</td>\n",
       "      <td>1</td>\n",
       "    </tr>\n",
       "  </tbody>\n",
       "</table>\n",
       "</div>"
      ],
      "text/plain": [
       "         Epitopes           TCRs  binding\n",
       "26853  LVVDFSQFSR  CASSYEGNTEAFF        1\n",
       "39478   KLGGALQAK  CASSYEGNTEAFF        1"
      ]
     },
     "execution_count": 67,
     "metadata": {},
     "output_type": "execute_result"
    }
   ],
   "source": [
    "CASSYEGNTEAFF"
   ]
  },
  {
   "cell_type": "code",
   "execution_count": 69,
   "metadata": {},
   "outputs": [],
   "source": [
    "KLGGALQAK = positive[positive['Epitopes'] == 'KLGGALQAK']"
   ]
  },
  {
   "cell_type": "code",
   "execution_count": 71,
   "metadata": {},
   "outputs": [],
   "source": [
    "KLGGALQAK.to_csv('./KLGGALQAK.csv')"
   ]
  },
  {
   "cell_type": "code",
   "execution_count": null,
   "metadata": {},
   "outputs": [],
   "source": []
  }
 ],
 "metadata": {
  "kernelspec": {
   "display_name": "bap_attack",
   "language": "python",
   "name": "python3"
  },
  "language_info": {
   "codemirror_mode": {
    "name": "ipython",
    "version": 3
   },
   "file_extension": ".py",
   "mimetype": "text/x-python",
   "name": "python",
   "nbconvert_exporter": "python",
   "pygments_lexer": "ipython3",
   "version": "3.10.14"
  }
 },
 "nbformat": 4,
 "nbformat_minor": 2
}
